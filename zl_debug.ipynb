{
 "cells": [
  {
   "cell_type": "code",
   "execution_count": 1,
   "metadata": {},
   "outputs": [],
   "source": [
    "%load_ext autoreload\n",
    "%autoreload 2\n"
   ]
  },
  {
   "cell_type": "code",
   "execution_count": 2,
   "metadata": {},
   "outputs": [],
   "source": [
    "\n",
    "import torch\n",
    "from torch.utils.data import Dataset\n",
    "from torchvision import transforms\n",
    "\n",
    "from helperFunctions import parse_name, rotation_matrix, classes, eps\n",
    "from axisAngle import get_y, get_R\n",
    "from quaternion import get_y as get_quaternion\n",
    "\n",
    "from PIL import Image\n",
    "import numpy as np\n",
    "import scipy.io as spio\n",
    "from scipy.spatial.distance import cdist\n",
    "import os\n",
    "import pickle\n",
    "\n",
    "from dataGenerators import ImagesAll\n",
    "from helperFunctions import parse_name, rotation_matrix\n",
    "from axisAngle import get_y\n",
    "\n",
    "import numpy as np\n",
    "from sklearn.cluster import KMeans\n",
    "import pickle\n",
    "import progressbar\n",
    "import sys\n",
    "\n"
   ]
  },
  {
   "cell_type": "code",
   "execution_count": 4,
   "metadata": {},
   "outputs": [
    {
     "name": "stdout",
     "output_type": "stream",
     "text": [
      "num_clusters:  50\n"
     ]
    },
    {
     "name": "stderr",
     "output_type": "stream",
     "text": [
      "  0% |                                                                        |\r"
     ]
    },
    {
     "name": "stderr",
     "output_type": "stream",
     "text": [
      "  1% |                                                                        |\r"
     ]
    },
    {
     "name": "stderr",
     "output_type": "stream",
     "text": [
      "  2% |#                                                                       |\r"
     ]
    },
    {
     "name": "stderr",
     "output_type": "stream",
     "text": [
      "  3% |##                                                                      |\r"
     ]
    },
    {
     "name": "stderr",
     "output_type": "stream",
     "text": [
      "  4% |##                                                                      |\r"
     ]
    },
    {
     "name": "stderr",
     "output_type": "stream",
     "text": [
      "  5% |###                                                                     |\r"
     ]
    },
    {
     "name": "stderr",
     "output_type": "stream",
     "text": [
      "  6% |####                                                                    |\r"
     ]
    },
    {
     "name": "stderr",
     "output_type": "stream",
     "text": [
      "  7% |#####                                                                   |\r"
     ]
    },
    {
     "name": "stderr",
     "output_type": "stream",
     "text": [
      "  8% |#####                                                                   |\r"
     ]
    },
    {
     "name": "stderr",
     "output_type": "stream",
     "text": [
      "  9% |######                                                                  |\r"
     ]
    },
    {
     "name": "stderr",
     "output_type": "stream",
     "text": [
      " 10% |#######                                                                 |\r"
     ]
    },
    {
     "name": "stderr",
     "output_type": "stream",
     "text": [
      " 11% |#######                                                                 |\r"
     ]
    },
    {
     "name": "stderr",
     "output_type": "stream",
     "text": [
      " 12% |########                                                                |\r"
     ]
    },
    {
     "name": "stderr",
     "output_type": "stream",
     "text": [
      " 13% |#########                                                               |\r"
     ]
    },
    {
     "name": "stderr",
     "output_type": "stream",
     "text": [
      " 14% |##########                                                              |\r"
     ]
    },
    {
     "name": "stderr",
     "output_type": "stream",
     "text": [
      " 15% |##########                                                              |\r"
     ]
    },
    {
     "name": "stderr",
     "output_type": "stream",
     "text": [
      " 16% |###########                                                             |\r"
     ]
    },
    {
     "name": "stderr",
     "output_type": "stream",
     "text": [
      " 17% |############                                                            |\r"
     ]
    },
    {
     "name": "stderr",
     "output_type": "stream",
     "text": [
      " 18% |############                                                            |\r"
     ]
    },
    {
     "name": "stderr",
     "output_type": "stream",
     "text": [
      " 19% |#############                                                           |\r"
     ]
    },
    {
     "name": "stderr",
     "output_type": "stream",
     "text": [
      " 20% |##############                                                          |\r"
     ]
    },
    {
     "name": "stderr",
     "output_type": "stream",
     "text": [
      " 21% |###############                                                         |\r"
     ]
    },
    {
     "name": "stderr",
     "output_type": "stream",
     "text": [
      " 22% |###############                                                         |\r"
     ]
    },
    {
     "name": "stderr",
     "output_type": "stream",
     "text": [
      " 23% |################                                                        |\r"
     ]
    },
    {
     "name": "stderr",
     "output_type": "stream",
     "text": [
      " 24% |#################                                                       |\r"
     ]
    },
    {
     "name": "stderr",
     "output_type": "stream",
     "text": [
      " 25% |##################                                                      |\r"
     ]
    },
    {
     "name": "stderr",
     "output_type": "stream",
     "text": [
      " 26% |##################                                                      |\r"
     ]
    },
    {
     "name": "stderr",
     "output_type": "stream",
     "text": [
      " 27% |###################                                                     |\r"
     ]
    },
    {
     "name": "stderr",
     "output_type": "stream",
     "text": [
      " 28% |####################                                                    |\r"
     ]
    },
    {
     "name": "stderr",
     "output_type": "stream",
     "text": [
      " 29% |####################                                                    |\r"
     ]
    },
    {
     "name": "stderr",
     "output_type": "stream",
     "text": [
      " 30% |#####################                                                   |\r"
     ]
    },
    {
     "name": "stderr",
     "output_type": "stream",
     "text": [
      " 31% |######################                                                  |\r"
     ]
    },
    {
     "name": "stderr",
     "output_type": "stream",
     "text": [
      " 32% |#######################                                                 |\r"
     ]
    },
    {
     "name": "stderr",
     "output_type": "stream",
     "text": [
      " 33% |#######################                                                 |\r"
     ]
    },
    {
     "name": "stderr",
     "output_type": "stream",
     "text": [
      " 34% |########################                                                |\r"
     ]
    },
    {
     "name": "stderr",
     "output_type": "stream",
     "text": [
      " 35% |#########################                                               |\r"
     ]
    },
    {
     "name": "stderr",
     "output_type": "stream",
     "text": [
      " 36% |#########################                                               |\r"
     ]
    },
    {
     "name": "stderr",
     "output_type": "stream",
     "text": [
      " 37% |##########################                                              |\r"
     ]
    },
    {
     "name": "stderr",
     "output_type": "stream",
     "text": [
      " 38% |###########################                                             |\r"
     ]
    },
    {
     "name": "stderr",
     "output_type": "stream",
     "text": [
      " 39% |############################                                            |\r"
     ]
    },
    {
     "name": "stderr",
     "output_type": "stream",
     "text": [
      " 40% |############################                                            |\r"
     ]
    },
    {
     "name": "stderr",
     "output_type": "stream",
     "text": [
      " 41% |#############################                                           |\r"
     ]
    },
    {
     "name": "stderr",
     "output_type": "stream",
     "text": [
      " 42% |##############################                                          |\r"
     ]
    },
    {
     "name": "stderr",
     "output_type": "stream",
     "text": [
      " 43% |###############################                                         |\r"
     ]
    },
    {
     "name": "stderr",
     "output_type": "stream",
     "text": [
      " 44% |###############################                                         |\r"
     ]
    },
    {
     "name": "stderr",
     "output_type": "stream",
     "text": [
      " 45% |################################                                        |\r"
     ]
    },
    {
     "name": "stderr",
     "output_type": "stream",
     "text": [
      " 46% |#################################                                       |\r"
     ]
    },
    {
     "name": "stderr",
     "output_type": "stream",
     "text": [
      " 47% |#################################                                       |\r"
     ]
    },
    {
     "name": "stderr",
     "output_type": "stream",
     "text": [
      " 48% |##################################                                      |\r"
     ]
    },
    {
     "name": "stderr",
     "output_type": "stream",
     "text": [
      " 49% |###################################                                     |\r"
     ]
    },
    {
     "name": "stderr",
     "output_type": "stream",
     "text": [
      " 50% |####################################                                    |\r"
     ]
    },
    {
     "name": "stderr",
     "output_type": "stream",
     "text": [
      " 51% |####################################                                    |\r"
     ]
    },
    {
     "name": "stderr",
     "output_type": "stream",
     "text": [
      " 52% |#####################################                                   |\r"
     ]
    },
    {
     "name": "stderr",
     "output_type": "stream",
     "text": [
      " 53% |######################################                                  |\r"
     ]
    },
    {
     "name": "stderr",
     "output_type": "stream",
     "text": [
      " 54% |######################################                                  |\r"
     ]
    },
    {
     "name": "stderr",
     "output_type": "stream",
     "text": [
      " 55% |#######################################                                 |\r"
     ]
    },
    {
     "name": "stderr",
     "output_type": "stream",
     "text": [
      " 56% |########################################                                |\r"
     ]
    },
    {
     "name": "stderr",
     "output_type": "stream",
     "text": [
      " 57% |#########################################                               |\r"
     ]
    },
    {
     "name": "stderr",
     "output_type": "stream",
     "text": [
      " 58% |#########################################                               |\r"
     ]
    },
    {
     "name": "stderr",
     "output_type": "stream",
     "text": [
      " 59% |##########################################                              |\r"
     ]
    },
    {
     "name": "stderr",
     "output_type": "stream",
     "text": [
      " 60% |###########################################                             |\r"
     ]
    },
    {
     "name": "stderr",
     "output_type": "stream",
     "text": [
      " 61% |###########################################                             |\r"
     ]
    },
    {
     "name": "stderr",
     "output_type": "stream",
     "text": [
      " 62% |############################################                            |\r"
     ]
    },
    {
     "name": "stderr",
     "output_type": "stream",
     "text": [
      " 63% |#############################################                           |\r"
     ]
    },
    {
     "name": "stderr",
     "output_type": "stream",
     "text": [
      " 64% |##############################################                          |\r"
     ]
    },
    {
     "name": "stderr",
     "output_type": "stream",
     "text": [
      " 65% |##############################################                          |\r"
     ]
    },
    {
     "name": "stderr",
     "output_type": "stream",
     "text": [
      " 66% |###############################################                         |\r"
     ]
    },
    {
     "name": "stderr",
     "output_type": "stream",
     "text": [
      " 67% |################################################                        |\r"
     ]
    },
    {
     "name": "stderr",
     "output_type": "stream",
     "text": [
      " 68% |#################################################                       |\r"
     ]
    },
    {
     "name": "stderr",
     "output_type": "stream",
     "text": [
      " 69% |#################################################                       |\r"
     ]
    },
    {
     "name": "stderr",
     "output_type": "stream",
     "text": [
      " 70% |##################################################                      |\r"
     ]
    },
    {
     "name": "stderr",
     "output_type": "stream",
     "text": [
      " 71% |###################################################                     |\r"
     ]
    },
    {
     "name": "stderr",
     "output_type": "stream",
     "text": [
      " 72% |###################################################                     |\r"
     ]
    },
    {
     "name": "stderr",
     "output_type": "stream",
     "text": [
      " 73% |####################################################                    |\r"
     ]
    },
    {
     "name": "stderr",
     "output_type": "stream",
     "text": [
      " 74% |#####################################################                   |\r"
     ]
    },
    {
     "name": "stderr",
     "output_type": "stream",
     "text": [
      " 75% |######################################################                  |\r"
     ]
    },
    {
     "name": "stderr",
     "output_type": "stream",
     "text": [
      " 76% |######################################################                  |\r"
     ]
    },
    {
     "name": "stderr",
     "output_type": "stream",
     "text": [
      " 77% |#######################################################                 |\r"
     ]
    },
    {
     "name": "stderr",
     "output_type": "stream",
     "text": [
      " 78% |########################################################                |\r"
     ]
    },
    {
     "name": "stderr",
     "output_type": "stream",
     "text": [
      " 79% |########################################################                |\r"
     ]
    },
    {
     "name": "stderr",
     "output_type": "stream",
     "text": [
      " 80% |#########################################################               |\r"
     ]
    },
    {
     "name": "stderr",
     "output_type": "stream",
     "text": [
      " 81% |##########################################################              |\r"
     ]
    },
    {
     "name": "stderr",
     "output_type": "stream",
     "text": [
      " 82% |###########################################################             |\r"
     ]
    },
    {
     "name": "stderr",
     "output_type": "stream",
     "text": [
      " 83% |###########################################################             |\r"
     ]
    },
    {
     "name": "stderr",
     "output_type": "stream",
     "text": [
      " 84% |############################################################            |\r"
     ]
    },
    {
     "name": "stderr",
     "output_type": "stream",
     "text": [
      " 85% |#############################################################           |\r"
     ]
    },
    {
     "name": "stderr",
     "output_type": "stream",
     "text": [
      " 86% |##############################################################          |\r"
     ]
    },
    {
     "name": "stderr",
     "output_type": "stream",
     "text": [
      " 87% |##############################################################          |\r"
     ]
    },
    {
     "name": "stderr",
     "output_type": "stream",
     "text": [
      " 88% |###############################################################         |\r"
     ]
    },
    {
     "name": "stderr",
     "output_type": "stream",
     "text": [
      " 89% |################################################################        |\r"
     ]
    },
    {
     "name": "stderr",
     "output_type": "stream",
     "text": [
      " 90% |################################################################        |\r"
     ]
    },
    {
     "name": "stderr",
     "output_type": "stream",
     "text": [
      " 91% |#################################################################       |\r"
     ]
    },
    {
     "name": "stderr",
     "output_type": "stream",
     "text": [
      " 92% |##################################################################      |\r"
     ]
    },
    {
     "name": "stderr",
     "output_type": "stream",
     "text": [
      " 93% |###################################################################     |\r"
     ]
    },
    {
     "name": "stderr",
     "output_type": "stream",
     "text": [
      " 94% |###################################################################     |\r"
     ]
    },
    {
     "name": "stderr",
     "output_type": "stream",
     "text": [
      " 95% |####################################################################    |\r"
     ]
    },
    {
     "name": "stderr",
     "output_type": "stream",
     "text": [
      " 96% |#####################################################################   |\r"
     ]
    },
    {
     "name": "stderr",
     "output_type": "stream",
     "text": [
      " 97% |#####################################################################   |\r"
     ]
    },
    {
     "name": "stderr",
     "output_type": "stream",
     "text": [
      " 98% |######################################################################  |\r"
     ]
    },
    {
     "name": "stderr",
     "output_type": "stream",
     "text": [
      " 99% |####################################################################### |\r"
     ]
    },
    {
     "name": "stderr",
     "output_type": "stream",
     "text": [
      "100% |########################################################################|\r"
     ]
    },
    {
     "name": "stderr",
     "output_type": "stream",
     "text": [
      "\n"
     ]
    },
    {
     "name": "stdout",
     "output_type": "stream",
     "text": [
      "\nData size:  (39946, 3)\nInitialization complete\nstart iteration\ndone sorting\nend inner loop\nIteration 0, inertia 1119.5779948928498\nstart iteration\ndone sorting\nend inner loop\n"
     ]
    },
    {
     "name": "stdout",
     "output_type": "stream",
     "text": [
      "Iteration 1, inertia 1076.2077473607835\nstart iteration\ndone sorting\nend inner loop\nIteration 2, inertia 1058.8549074182915\nstart iteration\ndone sorting\nend inner loop\nIteration 3, inertia 1049.2733529398886\nstart iteration\ndone sorting\nend inner loop\nIteration 4, inertia 1043.548220618728\nstart iteration\ndone sorting\nend inner loop\nIteration 5, inertia 1039.770713678297\nstart iteration\ndone sorting\nend inner loop\nIteration 6, inertia 1036.8421650175944\nstart iteration\ndone sorting\nend inner loop\nIteration 7, inertia 1034.8172826600517\nstart iteration\ndone sorting\nend inner loop\nIteration 8, inertia 1033.4863742806613\nstart iteration\ndone sorting\nend inner loop\n"
     ]
    },
    {
     "name": "stdout",
     "output_type": "stream",
     "text": [
      "Iteration 9, inertia 1032.3230693359096\nstart iteration\ndone sorting\nend inner loop\nIteration 10, inertia 1031.187836198491\nstart iteration\ndone sorting\nend inner loop\nIteration 11, inertia 1029.9732128106095\nstart iteration\ndone sorting\nend inner loop\nIteration 12, inertia 1029.0206535156296\nstart iteration\ndone sorting\nend inner loop\nIteration 13, inertia 1028.2775029279326\nstart iteration\ndone sorting\nend inner loop\nIteration 14, inertia 1027.6148248304407\nstart iteration\ndone sorting\nend inner loop\nIteration 15, inertia 1027.1045518896524\nstart iteration\ndone sorting\nend inner loop\nIteration 16, inertia 1026.6743390533986\nstart iteration\ndone sorting\nend inner loop\nIteration 17, inertia 1026.3436274236883\nstart iteration\ndone sorting\nend inner loop\n"
     ]
    },
    {
     "name": "stdout",
     "output_type": "stream",
     "text": [
      "Iteration 18, inertia 1025.7277169995584\nstart iteration\ndone sorting\nend inner loop\nIteration 19, inertia 1024.3879989340564\nstart iteration\ndone sorting\nend inner loop\nIteration 20, inertia 1022.7155168534788\nstart iteration\ndone sorting\nend inner loop\nIteration 21, inertia 1021.1653690799419\nstart iteration\ndone sorting\nend inner loop\nIteration 22, inertia 1019.6451957574851\nstart iteration\ndone sorting\nend inner loop\nIteration 23, inertia 1018.5866605496591\nstart iteration\ndone sorting\nend inner loop\nIteration 24, inertia 1017.3831372988303\nstart iteration\ndone sorting\nend inner loop\nIteration 25, inertia 1016.2261532976258\nstart iteration\ndone sorting\nend inner loop\nIteration 26, inertia 1015.4941543211535\nstart iteration\ndone sorting\nend inner loop\nIteration 27, inertia 1014.9231003561011\nstart iteration\ndone sorting\nend inner loop\n"
     ]
    },
    {
     "name": "stdout",
     "output_type": "stream",
     "text": [
      "Iteration 28, inertia 1014.4452955401593\nstart iteration\ndone sorting\nend inner loop\nIteration 29, inertia 1014.072679846925\nstart iteration\ndone sorting\nend inner loop\nIteration 30, inertia 1013.6851167168641\nstart iteration\ndone sorting\nend inner loop\nIteration 31, inertia 1013.1549099910175\nstart iteration\ndone sorting\nend inner loop\nIteration 32, inertia 1012.5783946272877\nstart iteration\ndone sorting\nend inner loop\nIteration 33, inertia 1011.8649441845406\nstart iteration\ndone sorting\nend inner loop\nIteration 34, inertia 1011.0645596896089\nstart iteration\ndone sorting\nend inner loop\nIteration 35, inertia 1010.3638897829073\nstart iteration\ndone sorting\nend inner loop\nIteration 36, inertia 1009.5669578042664\nstart iteration\ndone sorting\nend inner loop\nIteration 37, inertia 1008.6687414786527\nstart iteration\ndone sorting\nend inner loop\n"
     ]
    },
    {
     "name": "stdout",
     "output_type": "stream",
     "text": [
      "Iteration 38, inertia 1007.3832515310519\nstart iteration\ndone sorting\nend inner loop\nIteration 39, inertia 1006.2829974814593\nstart iteration\ndone sorting\nend inner loop\nIteration 40, inertia 1005.3565940565392\nstart iteration\ndone sorting\nend inner loop\nIteration 41, inertia 1004.8183649135367\nstart iteration\ndone sorting\nend inner loop\nIteration 42, inertia 1004.4689973623242\nstart iteration\ndone sorting\nend inner loop\nIteration 43, inertia 1004.1780446009669\nstart iteration\ndone sorting\nend inner loop\nIteration 44, inertia 1003.6604711483467\nstart iteration\ndone sorting\nend inner loop\nIteration 45, inertia 1002.9274637749003\nstart iteration\ndone sorting\nend inner loop\nIteration 46, inertia 1002.3534978413413\nstart iteration\ndone sorting\nend inner loop\nIteration 47, inertia 1002.1760158850874\nstart iteration\ndone sorting\nend inner loop\n"
     ]
    },
    {
     "name": "stdout",
     "output_type": "stream",
     "text": [
      "Iteration 48, inertia 1002.11331719376\nstart iteration\ndone sorting\nend inner loop\nIteration 49, inertia 1002.0701819940065\nstart iteration\ndone sorting\nend inner loop\nIteration 50, inertia 1002.0344765645556\nstart iteration\ndone sorting\nend inner loop\nIteration 51, inertia 1002.0091201674635\nstart iteration\ndone sorting\nend inner loop\nIteration 52, inertia 1001.9860962554585\nstart iteration\ndone sorting\nend inner loop\nIteration 53, inertia 1001.9646958865441\nstart iteration\ndone sorting\nend inner loop\nIteration 54, inertia 1001.9502699215913\ncenter shift 6.852957e-03 within tolerance 5.809205e-05\n"
     ]
    },
    {
     "name": "stdout",
     "output_type": "stream",
     "text": [
      "Initialization complete\nstart iteration\ndone sorting\nend inner loop\nIteration 0, inertia 1137.8293022317216\nstart iteration\ndone sorting\nend inner loop\nIteration 1, inertia 1092.1825814899212\nstart iteration\ndone sorting\nend inner loop\nIteration 2, inertia 1070.8106266706504\nstart iteration\ndone sorting\nend inner loop\nIteration 3, inertia 1054.9629151347863\nstart iteration\ndone sorting\nend inner loop\n"
     ]
    },
    {
     "name": "stdout",
     "output_type": "stream",
     "text": [
      "Iteration 4, inertia 1043.9100468831607\nstart iteration\ndone sorting\nend inner loop\nIteration 5, inertia 1035.9273672302916\nstart iteration\ndone sorting\nend inner loop\nIteration 6, inertia 1030.0888713543598\nstart iteration\ndone sorting\nend inner loop\nIteration 7, inertia 1024.900752263866\nstart iteration\ndone sorting\nend inner loop\nIteration 8, inertia 1020.3279295914049\nstart iteration\ndone sorting\nend inner loop\nIteration 9, inertia 1016.3185072221377\nstart iteration\ndone sorting\nend inner loop\nIteration 10, inertia 1012.3406911264924\nstart iteration\ndone sorting\nend inner loop\nIteration 11, inertia 1007.7222020559925\nstart iteration\ndone sorting\nend inner loop\nIteration 12, inertia 1003.598406574165\nstart iteration\ndone sorting\nend inner loop\nIteration 13, inertia 1000.2971928870097\nstart iteration\ndone sorting\n"
     ]
    },
    {
     "name": "stdout",
     "output_type": "stream",
     "text": [
      "end inner loop\nIteration 14, inertia 997.9321445457726\nstart iteration\ndone sorting\nend inner loop\nIteration 15, inertia 996.3886902085952\nstart iteration\ndone sorting\nend inner loop\nIteration 16, inertia 995.4032853634618\nstart iteration\ndone sorting\nend inner loop\nIteration 17, inertia 994.7898267289304\nstart iteration\ndone sorting\nend inner loop\nIteration 18, inertia 994.3017814300315\nstart iteration\ndone sorting\nend inner loop\nIteration 19, inertia 993.909687597576\nstart iteration\ndone sorting\nend inner loop\nIteration 20, inertia 993.5349316954272\nstart iteration\ndone sorting\nend inner loop\nIteration 21, inertia 993.2110692843008\nstart iteration\ndone sorting\nend inner loop\nIteration 22, inertia 992.9547605558394\nstart iteration\ndone sorting\nend inner loop\nIteration 23, inertia 992.6874476282194\nstart iteration\ndone sorting\nend inner loop\n"
     ]
    },
    {
     "name": "stdout",
     "output_type": "stream",
     "text": [
      "Iteration 24, inertia 992.4263587342726\nstart iteration\ndone sorting\nend inner loop\nIteration 25, inertia 992.2238142208905\nstart iteration\ndone sorting\nend inner loop\nIteration 26, inertia 992.1158210507967\nstart iteration\ndone sorting\nend inner loop\nIteration 27, inertia 992.0113081786888\nstart iteration\ndone sorting\nend inner loop\nIteration 28, inertia 991.9219530943079\nstart iteration\ndone sorting\nend inner loop\nIteration 29, inertia 991.8285650931715\nstart iteration\ndone sorting\nend inner loop\nIteration 30, inertia 991.727581735395\nstart iteration\ndone sorting\nend inner loop\nIteration 31, inertia 991.5813992065582\nstart iteration\ndone sorting\nend inner loop\nIteration 32, inertia 991.4287386729409\nstart iteration\ndone sorting\nend inner loop\nIteration 33, inertia 991.2951501342245\nstart iteration\ndone sorting\nend inner loop\n"
     ]
    },
    {
     "name": "stdout",
     "output_type": "stream",
     "text": [
      "Iteration 34, inertia 991.225351870977\nstart iteration\ndone sorting\nend inner loop\nIteration 35, inertia 991.1840967839862\nstart iteration\ndone sorting\nend inner loop\nIteration 36, inertia 991.1376337653754\nstart iteration\ndone sorting\nend inner loop\nIteration 37, inertia 991.0855363369051\nstart iteration\ndone sorting\nend inner loop\nIteration 38, inertia 991.017127936673\nstart iteration\ndone sorting\nend inner loop\nIteration 39, inertia 990.9620983547662\nstart iteration\ndone sorting\nend inner loop\nIteration 40, inertia 990.8973886122186\nstart iteration\ndone sorting\nend inner loop\nIteration 41, inertia 990.8458941267877\nstart iteration\ndone sorting\nend inner loop\nIteration 42, inertia 990.7924354388593\nstart iteration\ndone sorting\nend inner loop\nIteration 43, inertia 990.7510048194604\nstart iteration\ndone sorting\nend inner loop\n"
     ]
    },
    {
     "name": "stdout",
     "output_type": "stream",
     "text": [
      "Iteration 44, inertia 990.7116166341305\nstart iteration\ndone sorting\nend inner loop\nIteration 45, inertia 990.6696333467123\nstart iteration\ndone sorting\nend inner loop\nIteration 46, inertia 990.6280343131501\nstart iteration\ndone sorting\nend inner loop\nIteration 47, inertia 990.5741920021376\nstart iteration\ndone sorting\nend inner loop\nIteration 48, inertia 990.5053904369792\nstart iteration\ndone sorting\nend inner loop\nIteration 49, inertia 990.4255185863644\nstart iteration\ndone sorting\nend inner loop\nIteration 50, inertia 990.3199669715614\nstart iteration\ndone sorting\nend inner loop\nIteration 51, inertia 990.2155307977429\nstart iteration\ndone sorting\nend inner loop\nIteration 52, inertia 990.1290963740354\nstart iteration\ndone sorting\nend inner loop\nIteration 53, inertia 990.0485173744773\nstart iteration\ndone sorting\nend inner loop\nIteration 54, inertia 989.9473977581172\nstart iteration\n"
     ]
    },
    {
     "name": "stdout",
     "output_type": "stream",
     "text": [
      "done sorting\nend inner loop\nIteration 55, inertia 989.8350220270466\nstart iteration\ndone sorting\nend inner loop\nIteration 56, inertia 989.7466330540344\nstart iteration\ndone sorting\nend inner loop\nIteration 57, inertia 989.6667363948915\nstart iteration\ndone sorting\nend inner loop\nIteration 58, inertia 989.5981282561663\nstart iteration\ndone sorting\nend inner loop\nIteration 59, inertia 989.5416173300565\nstart iteration\ndone sorting\nend inner loop\nIteration 60, inertia 989.5055526332529\nstart iteration\ndone sorting\nend inner loop\nIteration 61, inertia 989.4674209042853\nstart iteration\ndone sorting\nend inner loop\nIteration 62, inertia 989.4344762935706\nstart iteration\ndone sorting\nend inner loop\nIteration 63, inertia 989.4068497022618\nstart iteration\ndone sorting\nend inner loop\nIteration 64, inertia 989.3907152701939\nstart iteration\ndone sorting\nend inner loop\n"
     ]
    },
    {
     "name": "stdout",
     "output_type": "stream",
     "text": [
      "Iteration 65, inertia 989.3822174440811\nstart iteration\ndone sorting\nend inner loop\nIteration 66, inertia 989.3749313235639\nstart iteration\ndone sorting\nend inner loop\nIteration 67, inertia 989.369248576309\ncenter shift 5.712341e-03 within tolerance 5.809205e-05\n"
     ]
    },
    {
     "name": "stdout",
     "output_type": "stream",
     "text": [
      "Initialization complete\nstart iteration\ndone sorting\nend inner loop\nIteration 0, inertia 1122.5276467420886\nstart iteration\ndone sorting\nend inner loop\nIteration 1, inertia 1071.030789899158\nstart iteration\ndone sorting\nend inner loop\nIteration 2, inertia 1052.6930105115478\nstart iteration\ndone sorting\nend inner loop\nIteration 3, inertia 1044.1181792010595\nstart iteration\ndone sorting\nend inner loop\n"
     ]
    },
    {
     "name": "stdout",
     "output_type": "stream",
     "text": [
      "Iteration 4, inertia 1038.1619809790236\nstart iteration\ndone sorting\nend inner loop\nIteration 5, inertia 1033.6331604158268\nstart iteration\ndone sorting\nend inner loop\nIteration 6, inertia 1028.8649424603823\nstart iteration\ndone sorting\nend inner loop\nIteration 7, inertia 1024.769955684224\nstart iteration\ndone sorting\nend inner loop\nIteration 8, inertia 1021.3230838825514\nstart iteration\ndone sorting\nend inner loop\nIteration 9, inertia 1019.0067526595531\nstart iteration\ndone sorting\nend inner loop\nIteration 10, inertia 1016.9065522553427\nstart iteration\ndone sorting\nend inner loop\nIteration 11, inertia 1014.5578937064155\nstart iteration\ndone sorting\nend inner loop\nIteration 12, inertia 1012.7130432077332\nstart iteration\ndone sorting\nend inner loop\nIteration 13, inertia 1011.0984409617379\nstart iteration\n"
     ]
    },
    {
     "name": "stdout",
     "output_type": "stream",
     "text": [
      "done sorting\nend inner loop\nIteration 14, inertia 1009.5339740056085\nstart iteration\ndone sorting\nend inner loop\nIteration 15, inertia 1008.2449514198184\nstart iteration\ndone sorting\nend inner loop\nIteration 16, inertia 1007.2579424169296\nstart iteration\ndone sorting\nend inner loop\nIteration 17, inertia 1006.5096614371364\nstart iteration\ndone sorting\nend inner loop\nIteration 18, inertia 1005.7896036647114\nstart iteration\ndone sorting\nend inner loop\nIteration 19, inertia 1005.1665369581183\nstart iteration\ndone sorting\nend inner loop\nIteration 20, inertia 1004.5993516794288\nstart iteration\ndone sorting\nend inner loop\nIteration 21, inertia 1004.0667947789041\nstart iteration\ndone sorting\nend inner loop\nIteration 22, inertia 1003.6504142132563\nstart iteration\ndone sorting\nend inner loop\n"
     ]
    },
    {
     "name": "stdout",
     "output_type": "stream",
     "text": [
      "Iteration 23, inertia 1003.2440244148364\nstart iteration\ndone sorting\nend inner loop\nIteration 24, inertia 1002.9000921114412\nstart iteration\ndone sorting\nend inner loop\nIteration 25, inertia 1002.5502225769816\nstart iteration\ndone sorting\nend inner loop\nIteration 26, inertia 1002.1532530020381\nstart iteration\ndone sorting\nend inner loop\nIteration 27, inertia 1001.7081540612963\nstart iteration\ndone sorting\nend inner loop\nIteration 28, inertia 1001.0083887793718\nstart iteration\ndone sorting\nend inner loop\nIteration 29, inertia 1000.1080803471399\nstart iteration\ndone sorting\nend inner loop\nIteration 30, inertia 999.2546575174273\nstart iteration\ndone sorting\nend inner loop\nIteration 31, inertia 998.448846173129\nstart iteration\ndone sorting\nend inner loop\nIteration 32, inertia 997.78696987161\nstart iteration\ndone sorting\nend inner loop\n"
     ]
    },
    {
     "name": "stdout",
     "output_type": "stream",
     "text": [
      "Iteration 33, inertia 997.2542122689201\nstart iteration\ndone sorting\nend inner loop\nIteration 34, inertia 996.7919570723634\nstart iteration\ndone sorting\nend inner loop\nIteration 35, inertia 996.3236132866699\nstart iteration\ndone sorting\nend inner loop\nIteration 36, inertia 995.9042391663129\nstart iteration\ndone sorting\nend inner loop\nIteration 37, inertia 995.5453716635208\nstart iteration\ndone sorting\nend inner loop\nIteration 38, inertia 995.2787261192349\nstart iteration\ndone sorting\nend inner loop\nIteration 39, inertia 995.0336169145628\nstart iteration\ndone sorting\nend inner loop\nIteration 40, inertia 994.806790772911\nstart iteration\ndone sorting\nend inner loop\nIteration 41, inertia 994.6288016348849\nstart iteration\ndone sorting\nend inner loop\nIteration 42, inertia 994.5191330416011\nstart iteration\ndone sorting\nend inner loop\n"
     ]
    },
    {
     "name": "stdout",
     "output_type": "stream",
     "text": [
      "Iteration 43, inertia 994.4410419639037\nstart iteration\ndone sorting\nend inner loop\nIteration 44, inertia 994.3786162758989\nstart iteration\ndone sorting\nend inner loop\nIteration 45, inertia 994.3188800773794\nstart iteration\ndone sorting\nend inner loop\nIteration 46, inertia 994.2546580417026\nstart iteration\ndone sorting\nend inner loop\nIteration 47, inertia 994.2088035176313\nstart iteration\ndone sorting\nend inner loop\nIteration 48, inertia 994.1711798887605\nstart iteration\ndone sorting\nend inner loop\nIteration 49, inertia 994.1429697656134\nstart iteration\ndone sorting\nend inner loop\nIteration 50, inertia 994.1107432194876\nstart iteration\ndone sorting\nend inner loop\nIteration 51, inertia 994.0672207117462\nstart iteration\ndone sorting\nend inner loop\nIteration 52, inertia 994.0189664867517\nstart iteration\ndone sorting\nend inner loop\n"
     ]
    },
    {
     "name": "stdout",
     "output_type": "stream",
     "text": [
      "Iteration 53, inertia 993.962458303074\nstart iteration\ndone sorting\nend inner loop\nIteration 54, inertia 993.9046135760705\nstart iteration\ndone sorting\nend inner loop\nIteration 55, inertia 993.8490499997837\nstart iteration\ndone sorting\nend inner loop\nIteration 56, inertia 993.8070631306141\nstart iteration\ndone sorting\nend inner loop\nIteration 57, inertia 993.7653558956999\nstart iteration\ndone sorting\nend inner loop\nIteration 58, inertia 993.718330926864\nstart iteration\ndone sorting\nend inner loop\nIteration 59, inertia 993.6899311390825\nstart iteration\ndone sorting\nend inner loop\nIteration 60, inertia 993.6574228650757\nstart iteration\ndone sorting\nend inner loop\nIteration 61, inertia 993.6167418828197\nstart iteration\ndone sorting\nend inner loop\nIteration 62, inertia 993.5690330996654\nstart iteration\ndone sorting\nend inner loop\nIteration 63, inertia 993.5344485224914\nstart iteration\n"
     ]
    },
    {
     "name": "stdout",
     "output_type": "stream",
     "text": [
      "done sorting\nend inner loop\nIteration 64, inertia 993.4995327972035\nstart iteration\ndone sorting\nend inner loop\nIteration 65, inertia 993.4316254852171\nstart iteration\ndone sorting\nend inner loop\nIteration 66, inertia 993.3984111000635\nstart iteration\ndone sorting\nend inner loop\nIteration 67, inertia 993.3909315114868\ncenter shift 6.010959e-03 within tolerance 5.809205e-05\n"
     ]
    },
    {
     "name": "stdout",
     "output_type": "stream",
     "text": [
      "Initialization complete\nstart iteration\ndone sorting\nend inner loop\nIteration 0, inertia 1134.791319668563\nstart iteration\ndone sorting\nend inner loop\nIteration 1, inertia 1079.954954565489\nstart iteration\ndone sorting\nend inner loop\nIteration 2, inertia 1055.9327816789616\nstart iteration\ndone sorting\nend inner loop\nIteration 3, inertia 1043.8440303653053\nstart iteration\ndone sorting\nend inner loop\n"
     ]
    },
    {
     "name": "stdout",
     "output_type": "stream",
     "text": [
      "Iteration 4, inertia 1035.4893576975458\nstart iteration\ndone sorting\nend inner loop\nIteration 5, inertia 1029.3870692238077\nstart iteration\ndone sorting\nend inner loop\nIteration 6, inertia 1023.8960217190698\nstart iteration\ndone sorting\nend inner loop\nIteration 7, inertia 1020.0570824810709\nstart iteration\ndone sorting\nend inner loop\nIteration 8, inertia 1017.4675315319224\nstart iteration\ndone sorting\nend inner loop\nIteration 9, inertia 1015.7039824052954\nstart iteration\ndone sorting\nend inner loop\nIteration 10, inertia 1014.3691026175627\nstart iteration\ndone sorting\nend inner loop\nIteration 11, inertia 1013.1516592238974\nstart iteration\ndone sorting\nend inner loop\nIteration 12, inertia 1011.9625314499899\nstart iteration\ndone sorting\nend inner loop\nIteration 13, inertia 1010.9138084518679\nstart iteration\ndone sorting\n"
     ]
    },
    {
     "name": "stdout",
     "output_type": "stream",
     "text": [
      "end inner loop\nIteration 14, inertia 1009.8849653859414\nstart iteration\ndone sorting\nend inner loop\nIteration 15, inertia 1008.8088705574006\nstart iteration\ndone sorting\nend inner loop\nIteration 16, inertia 1007.8426721139996\nstart iteration\ndone sorting\nend inner loop\nIteration 17, inertia 1006.5889540530686\nstart iteration\ndone sorting\nend inner loop\nIteration 18, inertia 1004.9943606804765\nstart iteration\ndone sorting\nend inner loop\nIteration 19, inertia 1003.3607305023738\nstart iteration\ndone sorting\nend inner loop\nIteration 20, inertia 1001.5688226626369\nstart iteration\ndone sorting\nend inner loop\nIteration 21, inertia 999.9951934694857\nstart iteration\ndone sorting\nend inner loop\nIteration 22, inertia 998.4305841483507\nstart iteration\ndone sorting\nend inner loop\n"
     ]
    },
    {
     "name": "stdout",
     "output_type": "stream",
     "text": [
      "Iteration 23, inertia 996.9776253773823\nstart iteration\ndone sorting\nend inner loop\nIteration 24, inertia 995.6649178496561\nstart iteration\ndone sorting\nend inner loop\nIteration 25, inertia 994.5419982495001\nstart iteration\ndone sorting\nend inner loop\nIteration 26, inertia 993.5900765552453\nstart iteration\ndone sorting\nend inner loop\nIteration 27, inertia 992.9424264400249\nstart iteration\ndone sorting\nend inner loop\nIteration 28, inertia 992.545997314125\nstart iteration\ndone sorting\nend inner loop\nIteration 29, inertia 992.1972938910344\nstart iteration\ndone sorting\nend inner loop\nIteration 30, inertia 991.9769499438032\nstart iteration\ndone sorting\nend inner loop\nIteration 31, inertia 991.843568166905\nstart iteration\ndone sorting\nend inner loop\nIteration 32, inertia 991.7527856800834\nstart iteration\ndone sorting\n"
     ]
    },
    {
     "name": "stdout",
     "output_type": "stream",
     "text": [
      "end inner loop\nIteration 33, inertia 991.6788202377614\nstart iteration\ndone sorting\nend inner loop\nIteration 34, inertia 991.6084925470291\nstart iteration\ndone sorting\nend inner loop\nIteration 35, inertia 991.5226898339864\nstart iteration\ndone sorting\nend inner loop\nIteration 36, inertia 991.4672029162538\nstart iteration\ndone sorting\nend inner loop\nIteration 37, inertia 991.4116112534133\nstart iteration\ndone sorting\nend inner loop\nIteration 38, inertia 991.3630536595897\nstart iteration\ndone sorting\nend inner loop\nIteration 39, inertia 991.2821307232384\nstart iteration\ndone sorting\nend inner loop\nIteration 40, inertia 991.1995801820666\nstart iteration\ndone sorting\nend inner loop\nIteration 41, inertia 991.0981127975143\nstart iteration\ndone sorting\nend inner loop\n"
     ]
    },
    {
     "name": "stdout",
     "output_type": "stream",
     "text": [
      "Iteration 42, inertia 991.0073208126631\nstart iteration\ndone sorting\nend inner loop\nIteration 43, inertia 990.9582804284033\nstart iteration\ndone sorting\nend inner loop\nIteration 44, inertia 990.899047384406\nstart iteration\ndone sorting\nend inner loop\nIteration 45, inertia 990.8382125242706\nstart iteration\ndone sorting\nend inner loop\nIteration 46, inertia 990.766835900037\nstart iteration\ndone sorting\nend inner loop\nIteration 47, inertia 990.6990039312825\nstart iteration\ndone sorting\nend inner loop\nIteration 48, inertia 990.6582434382171\nstart iteration\ndone sorting\nend inner loop\nIteration 49, inertia 990.6316311139663\nstart iteration\ndone sorting\nend inner loop\nIteration 50, inertia 990.6119301168732\nstart iteration\ndone sorting\nend inner loop\nIteration 51, inertia 990.5873595127317\nstart iteration\ndone sorting\nend inner loop\n"
     ]
    },
    {
     "name": "stdout",
     "output_type": "stream",
     "text": [
      "Iteration 52, inertia 990.5730898778786\nstart iteration\ndone sorting\nend inner loop\nIteration 53, inertia 990.5661089850271\ncenter shift 7.162360e-03 within tolerance 5.809205e-05\nInitialization complete\n"
     ]
    },
    {
     "name": "stdout",
     "output_type": "stream",
     "text": [
      "start iteration\ndone sorting\nend inner loop\nIteration 0, inertia 1098.959970403431\nstart iteration\ndone sorting\nend inner loop\nIteration 1, inertia 1054.4252015176257\nstart iteration\ndone sorting\nend inner loop\nIteration 2, inertia 1040.1723250974846\nstart iteration\ndone sorting\nend inner loop\nIteration 3, inertia 1032.6180636024578\nstart iteration\ndone sorting\nend inner loop\nIteration 4, inertia 1027.4087745442216\n"
     ]
    },
    {
     "name": "stdout",
     "output_type": "stream",
     "text": [
      "start iteration\ndone sorting\nend inner loop\nIteration 5, inertia 1023.4805294799181\nstart iteration\ndone sorting\nend inner loop\nIteration 6, inertia 1020.8055541982723\nstart iteration\ndone sorting\nend inner loop\nIteration 7, inertia 1018.9590783402294\nstart iteration\ndone sorting\nend inner loop\nIteration 8, inertia 1017.5530895683623\nstart iteration\ndone sorting\nend inner loop\nIteration 9, inertia 1016.300022887202\nstart iteration\ndone sorting\nend inner loop\nIteration 10, inertia 1015.0972150576445\nstart iteration\ndone sorting\nend inner loop\nIteration 11, inertia 1013.6497868696739\nstart iteration\ndone sorting\nend inner loop\nIteration 12, inertia 1012.5513795003686\nstart iteration\ndone sorting\nend inner loop\nIteration 13, inertia 1011.7872265502715\nstart iteration\ndone sorting\nend inner loop\n"
     ]
    },
    {
     "name": "stdout",
     "output_type": "stream",
     "text": [
      "Iteration 14, inertia 1011.2149391593074\nstart iteration\ndone sorting\nend inner loop\nIteration 15, inertia 1010.6131694509157\nstart iteration\ndone sorting\nend inner loop\nIteration 16, inertia 1010.0373498324778\nstart iteration\ndone sorting\nend inner loop\nIteration 17, inertia 1009.399891155905\nstart iteration\ndone sorting\nend inner loop\nIteration 18, inertia 1008.651171956474\nstart iteration\ndone sorting\nend inner loop\nIteration 19, inertia 1007.6574621453785\nstart iteration\ndone sorting\nend inner loop\nIteration 20, inertia 1006.6360129482881\nstart iteration\ndone sorting\nend inner loop\nIteration 21, inertia 1005.7425731632569\nstart iteration\ndone sorting\nend inner loop\nIteration 22, inertia 1004.4053585758485\nstart iteration\ndone sorting\nend inner loop\nIteration 23, inertia 1002.2204563195206\nstart iteration\ndone sorting\n"
     ]
    },
    {
     "name": "stdout",
     "output_type": "stream",
     "text": [
      "end inner loop\nIteration 24, inertia 1000.6775870666368\nstart iteration\ndone sorting\nend inner loop\nIteration 25, inertia 999.4641866482484\nstart iteration\ndone sorting\nend inner loop\nIteration 26, inertia 998.4780223819256\nstart iteration\ndone sorting\nend inner loop\nIteration 27, inertia 997.9337623647373\nstart iteration\ndone sorting\nend inner loop\nIteration 28, inertia 997.5243909033675\nstart iteration\ndone sorting\nend inner loop\nIteration 29, inertia 997.1054320666874\nstart iteration\ndone sorting\nend inner loop\nIteration 30, inertia 996.6718372760271\nstart iteration\ndone sorting\nend inner loop\nIteration 31, inertia 996.0687408920128\nstart iteration\ndone sorting\nend inner loop\nIteration 32, inertia 995.4421154407116\nstart iteration\ndone sorting\nend inner loop\n"
     ]
    },
    {
     "name": "stdout",
     "output_type": "stream",
     "text": [
      "Iteration 33, inertia 995.0293987088614\nstart iteration\ndone sorting\nend inner loop\nIteration 34, inertia 994.581213221565\nstart iteration\ndone sorting\nend inner loop\nIteration 35, inertia 994.2573604697805\nstart iteration\ndone sorting\nend inner loop\nIteration 36, inertia 994.0148871147\nstart iteration\ndone sorting\nend inner loop\nIteration 37, inertia 993.7858972642512\nstart iteration\ndone sorting\nend inner loop\nIteration 38, inertia 993.651121514756\nstart iteration\ndone sorting\nend inner loop\nIteration 39, inertia 993.5848835154708\nstart iteration\ndone sorting\nend inner loop\nIteration 40, inertia 993.5220113515102\nstart iteration\ndone sorting\nend inner loop\nIteration 41, inertia 993.4541544989718\nstart iteration\ndone sorting\nend inner loop\nIteration 42, inertia 993.4040894161645\nstart iteration\ndone sorting\nend inner loop"
     ]
    },
    {
     "name": "stdout",
     "output_type": "stream",
     "text": [
      "\nIteration 43, inertia 993.3498213009331\nstart iteration\ndone sorting\nend inner loop\nIteration 44, inertia 993.3189092478113\nstart iteration\ndone sorting\nend inner loop\nIteration 45, inertia 993.2903533208766\nstart iteration\ndone sorting\nend inner loop\nIteration 46, inertia 993.2508066460666\nstart iteration\ndone sorting\nend inner loop\nIteration 47, inertia 993.2162908680235\nstart iteration\ndone sorting\nend inner loop\nIteration 48, inertia 993.2009931503331\nstart iteration\ndone sorting\nend inner loop\nIteration 49, inertia 993.1696090745234\nstart iteration\ndone sorting\nend inner loop\nIteration 50, inertia 993.1363008750524\nstart iteration\ndone sorting\nend inner loop\nIteration 51, inertia 993.0852315941767\nstart iteration\ndone sorting\nend inner loop\nIteration 52, inertia 993.0236614014678\nstart iteration\ndone sorting\n"
     ]
    },
    {
     "name": "stdout",
     "output_type": "stream",
     "text": [
      "end inner loop\nIteration 53, inertia 992.9699886319011\nstart iteration\ndone sorting\nend inner loop\nIteration 54, inertia 992.874927742702\nstart iteration\ndone sorting\nend inner loop\nIteration 55, inertia 992.8033504111968\nstart iteration\ndone sorting\nend inner loop\nIteration 56, inertia 992.7327949451413\nstart iteration\ndone sorting\nend inner loop\nIteration 57, inertia 992.6800212634485\nstart iteration\ndone sorting\nend inner loop\nIteration 58, inertia 992.6465060713219\nstart iteration\ndone sorting\nend inner loop\nIteration 59, inertia 992.6030096439168\nstart iteration\ndone sorting\nend inner loop\nIteration 60, inertia 992.5631002535654\nstart iteration\ndone sorting\nend inner loop\nIteration 61, inertia 992.530806504437\nstart iteration\ndone sorting\nend inner loop\nIteration 62, inertia 992.4883156514637\nstart iteration\ndone sorting\n"
     ]
    },
    {
     "name": "stdout",
     "output_type": "stream",
     "text": [
      "end inner loop\nIteration 63, inertia 992.445180110945\nstart iteration\ndone sorting\nend inner loop\nIteration 64, inertia 992.4176407490305\nstart iteration\ndone sorting\nend inner loop\nIteration 65, inertia 992.4003073570383\nstart iteration\ndone sorting\nend inner loop\nIteration 66, inertia 992.3706480762078\nstart iteration\ndone sorting\nend inner loop\nIteration 67, inertia 992.3297313153844\nstart iteration\ndone sorting\nend inner loop\nIteration 68, inertia 992.295724230291\nstart iteration\ndone sorting\nend inner loop\nIteration 69, inertia 992.2585678464739\nstart iteration\ndone sorting\nend inner loop\nIteration 70, inertia 992.2223342323165\nstart iteration\ndone sorting\nend inner loop\nIteration 71, inertia 992.1796630838567\nstart iteration\ndone sorting\nend inner loop\nIteration 72, inertia 992.1354617351308\nstart iteration\ndone sorting\nend inner loop\n"
     ]
    },
    {
     "name": "stdout",
     "output_type": "stream",
     "text": [
      "Iteration 73, inertia 992.0831159225679\nstart iteration\ndone sorting\nend inner loop\nIteration 74, inertia 992.04529466917\nstart iteration\ndone sorting\nend inner loop\nIteration 75, inertia 992.0088612718334\nstart iteration\ndone sorting\nend inner loop\nIteration 76, inertia 991.9718492673593\nstart iteration\ndone sorting\nend inner loop\nIteration 77, inertia 991.9445851800424\nstart iteration\ndone sorting\nend inner loop\nIteration 78, inertia 991.921467905596\nstart iteration\ndone sorting\nend inner loop\nIteration 79, inertia 991.8907943145992\nstart iteration\ndone sorting\nend inner loop\nIteration 80, inertia 991.8623211445145\nstart iteration\ndone sorting\nend inner loop\nIteration 81, inertia 991.8289101410811\nstart iteration\ndone sorting\nend inner loop\nIteration 82, inertia 991.7877574895293\nstart iteration\ndone sorting\nend inner loop\n"
     ]
    },
    {
     "name": "stdout",
     "output_type": "stream",
     "text": [
      "Iteration 83, inertia 991.7434134496939\nstart iteration\ndone sorting\nend inner loop\nIteration 84, inertia 991.6924899344934\nstart iteration\ndone sorting\nend inner loop\nIteration 85, inertia 991.6378605001782\nstart iteration\ndone sorting\nend inner loop\nIteration 86, inertia 991.5780236123551\nstart iteration\ndone sorting\nend inner loop\nIteration 87, inertia 991.5102878032338\nstart iteration\ndone sorting\nend inner loop\nIteration 88, inertia 991.4496699391813\nstart iteration\ndone sorting\nend inner loop\nIteration 89, inertia 991.3774545979512\nstart iteration\ndone sorting\nend inner loop\nIteration 90, inertia 991.2866640736569\nstart iteration\ndone sorting\nend inner loop\nIteration 91, inertia 991.186661470506\nstart iteration\ndone sorting\nend inner loop\nIteration 92, inertia 991.1111080452023\nstart iteration\ndone sorting\nend inner loop\nIteration 93, inertia 991.0365807540607\nstart iteration\ndone sorting\n"
     ]
    },
    {
     "name": "stdout",
     "output_type": "stream",
     "text": [
      "end inner loop\nIteration 94, inertia 990.9560891285861\nstart iteration\ndone sorting\nend inner loop\nIteration 95, inertia 990.8795598164348\nstart iteration\ndone sorting\nend inner loop\nIteration 96, inertia 990.7868007377729\nstart iteration\ndone sorting\nend inner loop\nIteration 97, inertia 990.6621204656043\nstart iteration\ndone sorting\nend inner loop\nIteration 98, inertia 990.5312295488166\nstart iteration\ndone sorting\nend inner loop\nIteration 99, inertia 990.410237921026\nstart iteration\ndone sorting\nend inner loop\nIteration 100, inertia 990.2496196128224\nstart iteration\ndone sorting\nend inner loop\nIteration 101, inertia 990.1324479228215\nstart iteration\ndone sorting\nend inner loop\nIteration 102, inertia 990.0744253369083\nstart iteration\ndone sorting\nend inner loop\nIteration 103, inertia 990.044258408043\nstart iteration\ndone sorting\n"
     ]
    },
    {
     "name": "stdout",
     "output_type": "stream",
     "text": [
      "end inner loop\nIteration 104, inertia 990.0242183350128\ncenter shift 7.008680e-03 within tolerance 5.809205e-05\n"
     ]
    },
    {
     "name": "stdout",
     "output_type": "stream",
     "text": [
      "Initialization complete\nstart iteration\ndone sorting\nend inner loop\nIteration 0, inertia 1150.5086645668953\nstart iteration\ndone sorting\nend inner loop\nIteration 1, inertia 1086.6601860856235\nstart iteration\ndone sorting\nend inner loop\nIteration 2, inertia 1064.8130381777087\nstart iteration\ndone sorting\nend inner loop\nIteration 3, inertia 1053.5600134978954\nstart iteration\ndone sorting\nend inner loop\n"
     ]
    },
    {
     "name": "stdout",
     "output_type": "stream",
     "text": [
      "Iteration 4, inertia 1043.8075947461127\nstart iteration\ndone sorting\nend inner loop\nIteration 5, inertia 1035.1326529761377\nstart iteration\ndone sorting\nend inner loop\nIteration 6, inertia 1027.9517172327128\nstart iteration\ndone sorting\nend inner loop\nIteration 7, inertia 1022.6703180163557\nstart iteration\ndone sorting\nend inner loop\nIteration 8, inertia 1018.1369348469966\nstart iteration\ndone sorting\nend inner loop\nIteration 9, inertia 1013.4908042769316\nstart iteration\ndone sorting\nend inner loop\nIteration 10, inertia 1009.5127338737664\nstart iteration\ndone sorting\nend inner loop\nIteration 11, inertia 1006.6735399929252\nstart iteration\ndone sorting\nend inner loop\nIteration 12, inertia 1005.0358818668769\nstart iteration\ndone sorting\nend inner loop\nIteration 13, inertia 1003.7980510588432\nstart iteration\ndone sorting\n"
     ]
    },
    {
     "name": "stdout",
     "output_type": "stream",
     "text": [
      "end inner loop\nIteration 14, inertia 1002.783408827203\nstart iteration\ndone sorting\nend inner loop\nIteration 15, inertia 1001.9744713254524\nstart iteration\ndone sorting\nend inner loop\nIteration 16, inertia 1001.2750324348796\nstart iteration\ndone sorting\nend inner loop\nIteration 17, inertia 1000.6712731801057\nstart iteration\ndone sorting\nend inner loop\nIteration 18, inertia 1000.0999973126266\nstart iteration\ndone sorting\nend inner loop\nIteration 19, inertia 999.641073747081\nstart iteration\ndone sorting\nend inner loop\nIteration 20, inertia 999.2499159508876\nstart iteration\ndone sorting\nend inner loop\nIteration 21, inertia 998.9772200545979\nstart iteration\ndone sorting\nend inner loop\nIteration 22, inertia 998.7337220487378\nstart iteration\ndone sorting\nend inner loop\n"
     ]
    },
    {
     "name": "stdout",
     "output_type": "stream",
     "text": [
      "Iteration 23, inertia 998.4617955305537\nstart iteration\ndone sorting\nend inner loop\nIteration 24, inertia 998.2245258034766\nstart iteration\ndone sorting\nend inner loop\nIteration 25, inertia 997.9956349651551\nstart iteration\ndone sorting\nend inner loop\nIteration 26, inertia 997.8074952197527\nstart iteration\ndone sorting\nend inner loop\nIteration 27, inertia 997.6003077540626\nstart iteration\ndone sorting\nend inner loop\nIteration 28, inertia 997.4289464291091\nstart iteration\ndone sorting\nend inner loop\nIteration 29, inertia 997.2936208054533\nstart iteration\ndone sorting\nend inner loop\nIteration 30, inertia 997.1595218633538\nstart iteration\ndone sorting\nend inner loop\nIteration 31, inertia 997.036699761547\nstart iteration\ndone sorting\nend inner loop\nIteration 32, inertia 996.9479904740634\nstart iteration\ndone sorting\nend inner loop\n"
     ]
    },
    {
     "name": "stdout",
     "output_type": "stream",
     "text": [
      "Iteration 33, inertia 996.8768591292074\nstart iteration\ndone sorting\nend inner loop\nIteration 34, inertia 996.7864906611478\nstart iteration\ndone sorting\nend inner loop\nIteration 35, inertia 996.7022349979075\nstart iteration\ndone sorting\nend inner loop\nIteration 36, inertia 996.6216535129258\nstart iteration\ndone sorting\nend inner loop\nIteration 37, inertia 996.5342647681211\nstart iteration\ndone sorting\nend inner loop\nIteration 38, inertia 996.4807182850503\nstart iteration\ndone sorting\nend inner loop\nIteration 39, inertia 996.4201134888443\nstart iteration\ndone sorting\nend inner loop\nIteration 40, inertia 996.3174886190607\nstart iteration\ndone sorting\nend inner loop\nIteration 41, inertia 996.1888908343068\nstart iteration\ndone sorting\nend inner loop\nIteration 42, inertia 996.08550009877\nstart iteration\ndone sorting\nend inner loop\n"
     ]
    },
    {
     "name": "stdout",
     "output_type": "stream",
     "text": [
      "Iteration 43, inertia 995.9777379089059\nstart iteration\ndone sorting\nend inner loop\nIteration 44, inertia 995.8603874362369\nstart iteration\ndone sorting\nend inner loop\nIteration 45, inertia 995.7216393046436\nstart iteration\ndone sorting\nend inner loop\nIteration 46, inertia 995.6121267546364\nstart iteration\ndone sorting\nend inner loop\nIteration 47, inertia 995.5556787134775\nstart iteration\ndone sorting\nend inner loop\nIteration 48, inertia 995.5007476884003\nstart iteration\ndone sorting\nend inner loop\nIteration 49, inertia 995.4513442579645\nstart iteration\ndone sorting\nend inner loop\nIteration 50, inertia 995.4025281942945\nstart iteration\ndone sorting\nend inner loop\nIteration 51, inertia 995.3424112110514\nstart iteration\ndone sorting\nend inner loop\nIteration 52, inertia 995.2625787700404\nstart iteration\ndone sorting\nend inner loop\n"
     ]
    },
    {
     "name": "stdout",
     "output_type": "stream",
     "text": [
      "Iteration 53, inertia 995.2016714925535\nstart iteration\ndone sorting\nend inner loop\nIteration 54, inertia 995.1341831748487\nstart iteration\ndone sorting\nend inner loop\nIteration 55, inertia 995.051244245715\nstart iteration\ndone sorting\nend inner loop\nIteration 56, inertia 994.9878698634545\nstart iteration\ndone sorting\nend inner loop\nIteration 57, inertia 994.883960288869\nstart iteration\ndone sorting\nend inner loop\nIteration 58, inertia 994.7861254412527\nstart iteration\ndone sorting\nend inner loop\nIteration 59, inertia 994.6863730897328\nstart iteration\ndone sorting\nend inner loop\nIteration 60, inertia 994.6147263899429\nstart iteration\ndone sorting\nend inner loop\nIteration 61, inertia 994.5339484178635\nstart iteration\ndone sorting\nend inner loop\nIteration 62, inertia 994.4277389979318\nstart iteration\ndone sorting\nend inner loop\nIteration 63, inertia 994.3300388888794\nstart iteration\n"
     ]
    },
    {
     "name": "stdout",
     "output_type": "stream",
     "text": [
      "done sorting\nend inner loop\nIteration 64, inertia 994.1949147620685\nstart iteration\ndone sorting\nend inner loop\nIteration 65, inertia 994.0039783419131\nstart iteration\ndone sorting\nend inner loop\nIteration 66, inertia 993.8521517565538\nstart iteration\ndone sorting\nend inner loop\nIteration 67, inertia 993.7092904881664\nstart iteration\ndone sorting\nend inner loop\nIteration 68, inertia 993.6287766328446\nstart iteration\ndone sorting\nend inner loop\nIteration 69, inertia 993.564084106052\nstart iteration\ndone sorting\nend inner loop\nIteration 70, inertia 993.5191965185289\nstart iteration\ndone sorting\nend inner loop\nIteration 71, inertia 993.4714446244187\nstart iteration\ndone sorting\nend inner loop\nIteration 72, inertia 993.4217484064878\nstart iteration\ndone sorting\nend inner loop\nIteration 73, inertia 993.3653417821979\nstart iteration\ndone sorting\n"
     ]
    },
    {
     "name": "stdout",
     "output_type": "stream",
     "text": [
      "end inner loop\nIteration 74, inertia 993.2970228331133\nstart iteration\ndone sorting\nend inner loop\nIteration 75, inertia 993.2321257658508\nstart iteration\ndone sorting\nend inner loop\nIteration 76, inertia 993.1506416233302\nstart iteration\ndone sorting\nend inner loop\nIteration 77, inertia 993.0699717030647\nstart iteration\ndone sorting\nend inner loop\nIteration 78, inertia 992.9806516517492\nstart iteration\ndone sorting\nend inner loop\nIteration 79, inertia 992.8944343910441\nstart iteration\ndone sorting\nend inner loop\nIteration 80, inertia 992.788665898153\nstart iteration\ndone sorting\nend inner loop\nIteration 81, inertia 992.6940722478257\nstart iteration\ndone sorting\nend inner loop\nIteration 82, inertia 992.6052378117703\nstart iteration\ndone sorting\nend inner loop\n"
     ]
    },
    {
     "name": "stdout",
     "output_type": "stream",
     "text": [
      "Iteration 83, inertia 992.5297097665426\nstart iteration\ndone sorting\nend inner loop\nIteration 84, inertia 992.4529709988734\nstart iteration\ndone sorting\nend inner loop\nIteration 85, inertia 992.3602907291971\nstart iteration\ndone sorting\nend inner loop\nIteration 86, inertia 992.2825148134413\nstart iteration\ndone sorting\nend inner loop\nIteration 87, inertia 992.2061830087723\nstart iteration\ndone sorting\nend inner loop\nIteration 88, inertia 992.1367324915964\nstart iteration\ndone sorting\nend inner loop\nIteration 89, inertia 992.0916416479735\nstart iteration\ndone sorting\nend inner loop\nIteration 90, inertia 992.0597071738523\nstart iteration\ndone sorting\nend inner loop\nIteration 91, inertia 992.0312978516797\nstart iteration\ndone sorting\nend inner loop\nIteration 92, inertia 992.0024163269204\nstart iteration\ndone sorting\nend inner loop\nIteration 93, inertia 991.9737094226253\nstart iteration\ndone sorting\nend inner loop\n"
     ]
    },
    {
     "name": "stdout",
     "output_type": "stream",
     "text": [
      "Iteration 94, inertia 991.9454447364129\nstart iteration\ndone sorting\nend inner loop\nIteration 95, inertia 991.9251152406414\nstart iteration\ndone sorting\nend inner loop\nIteration 96, inertia 991.9066998114336\nstart iteration\ndone sorting\nend inner loop\nIteration 97, inertia 991.8829970584211\nstart iteration\ndone sorting\nend inner loop\nIteration 98, inertia 991.8608288920935\nstart iteration\ndone sorting\nend inner loop\nIteration 99, inertia 991.8352267963761\nstart iteration\ndone sorting\nend inner loop\nIteration 100, inertia 991.8199013564498\nstart iteration\ndone sorting\nend inner loop\nIteration 101, inertia 991.8083665054154\nstart iteration\ndone sorting\nend inner loop\nIteration 102, inertia 991.799784877704\ncenter shift 7.253374e-03 within tolerance 5.809205e-05\n"
     ]
    },
    {
     "name": "stdout",
     "output_type": "stream",
     "text": [
      "Initialization complete\nstart iteration\ndone sorting\nend inner loop\nIteration 0, inertia 1115.9485868623537\nstart iteration\ndone sorting\nend inner loop\nIteration 1, inertia 1062.0535675284868\nstart iteration\ndone sorting\nend inner loop\nIteration 2, inertia 1043.8444589545363\nstart iteration\ndone sorting\nend inner loop\nIteration 3, inertia 1034.331701601288\nstart iteration\ndone sorting\nend inner loop\n"
     ]
    },
    {
     "name": "stdout",
     "output_type": "stream",
     "text": [
      "Iteration 4, inertia 1028.357338123148\nstart iteration\ndone sorting\nend inner loop\nIteration 5, inertia 1023.3843203369065\nstart iteration\ndone sorting\nend inner loop\nIteration 6, inertia 1019.5219434512777\nstart iteration\ndone sorting\nend inner loop\nIteration 7, inertia 1016.292792925038\nstart iteration\ndone sorting\nend inner loop\nIteration 8, inertia 1013.4254999551364\nstart iteration\ndone sorting\nend inner loop\nIteration 9, inertia 1011.4422107353333\nstart iteration\ndone sorting\nend inner loop\nIteration 10, inertia 1010.0316233921403\nstart iteration\ndone sorting\nend inner loop\nIteration 11, inertia 1008.7730616855258\nstart iteration\ndone sorting\nend inner loop\nIteration 12, inertia 1007.6139720430892\nstart iteration\ndone sorting\nend inner loop\nIteration 13, inertia 1006.5273024715052\nstart iteration\ndone sorting\n"
     ]
    },
    {
     "name": "stdout",
     "output_type": "stream",
     "text": [
      "end inner loop\nIteration 14, inertia 1005.6705152950075\nstart iteration\ndone sorting\nend inner loop\nIteration 15, inertia 1004.8378437243762\nstart iteration\ndone sorting\nend inner loop\nIteration 16, inertia 1003.9349024460346\nstart iteration\ndone sorting\nend inner loop\nIteration 17, inertia 1003.0460558664586\nstart iteration\ndone sorting\nend inner loop\nIteration 18, inertia 1002.0928908969848\nstart iteration\ndone sorting\nend inner loop\nIteration 19, inertia 1001.2757658996914\nstart iteration\ndone sorting\nend inner loop\nIteration 20, inertia 1000.5584822355817\nstart iteration\ndone sorting\nend inner loop\nIteration 21, inertia 999.8144490044635\nstart iteration\ndone sorting\nend inner loop\nIteration 22, inertia 999.1562122704767\nstart iteration\ndone sorting\nend inner loop\nIteration 23, inertia 998.5652580266129\nstart iteration\ndone sorting\nend inner loop\n"
     ]
    },
    {
     "name": "stdout",
     "output_type": "stream",
     "text": [
      "Iteration 24, inertia 998.044515699557\nstart iteration\ndone sorting\nend inner loop\nIteration 25, inertia 997.5467868679608\nstart iteration\ndone sorting\nend inner loop\nIteration 26, inertia 997.1294060040981\nstart iteration\ndone sorting\nend inner loop\nIteration 27, inertia 996.7760192911976\nstart iteration\ndone sorting\nend inner loop\nIteration 28, inertia 996.4284840350564\nstart iteration\ndone sorting\nend inner loop\nIteration 29, inertia 996.1375603128838\nstart iteration\ndone sorting\nend inner loop\nIteration 30, inertia 995.814891383482\nstart iteration\ndone sorting\nend inner loop\nIteration 31, inertia 995.5651712147287\nstart iteration\ndone sorting\nend inner loop\nIteration 32, inertia 995.3297915118048\nstart iteration\ndone sorting\nend inner loop\nIteration 33, inertia 995.1016421509195\nstart iteration\ndone sorting\nend inner loop\n"
     ]
    },
    {
     "name": "stdout",
     "output_type": "stream",
     "text": [
      "Iteration 34, inertia 994.9370526240137\nstart iteration\ndone sorting\nend inner loop\nIteration 35, inertia 994.8055936891479\nstart iteration\ndone sorting\nend inner loop\nIteration 36, inertia 994.6750543093901\nstart iteration\ndone sorting\nend inner loop\nIteration 37, inertia 994.5380304862699\nstart iteration\ndone sorting\nend inner loop\nIteration 38, inertia 994.3788758458397\nstart iteration\ndone sorting\nend inner loop\nIteration 39, inertia 994.2213371288335\nstart iteration\ndone sorting\nend inner loop\nIteration 40, inertia 994.0552991932568\nstart iteration\ndone sorting\nend inner loop\nIteration 41, inertia 993.9086611846407\nstart iteration\ndone sorting\nend inner loop\nIteration 42, inertia 993.7765658973078\nstart iteration\ndone sorting\nend inner loop\nIteration 43, inertia 993.6590528264375\nstart iteration\ndone sorting\nend inner loop\n"
     ]
    },
    {
     "name": "stdout",
     "output_type": "stream",
     "text": [
      "Iteration 44, inertia 993.5520654313465\nstart iteration\ndone sorting\nend inner loop\nIteration 45, inertia 993.4339358248437\nstart iteration\ndone sorting\nend inner loop\nIteration 46, inertia 993.2869215151314\nstart iteration\ndone sorting\nend inner loop\nIteration 47, inertia 993.1940044603772\nstart iteration\ndone sorting\nend inner loop\nIteration 48, inertia 993.0749219287394\nstart iteration\ndone sorting\nend inner loop\nIteration 49, inertia 992.9624132435158\nstart iteration\ndone sorting\nend inner loop\nIteration 50, inertia 992.8829905573056\nstart iteration\ndone sorting\nend inner loop\nIteration 51, inertia 992.8165866826243\nstart iteration\ndone sorting\nend inner loop\nIteration 52, inertia 992.7484790573935\nstart iteration\ndone sorting\nend inner loop\nIteration 53, inertia 992.6941472023952\nstart iteration\ndone sorting\nend inner loop\n"
     ]
    },
    {
     "name": "stdout",
     "output_type": "stream",
     "text": [
      "Iteration 54, inertia 992.604560455002\nstart iteration\ndone sorting\nend inner loop\nIteration 55, inertia 992.4663128725435\nstart iteration\ndone sorting\nend inner loop\nIteration 56, inertia 992.3282086207515\nstart iteration\ndone sorting\nend inner loop\nIteration 57, inertia 992.1655041967849\nstart iteration\ndone sorting\nend inner loop\nIteration 58, inertia 991.9930070057809\nstart iteration\ndone sorting\nend inner loop\nIteration 59, inertia 991.7557163188662\nstart iteration\ndone sorting\nend inner loop\nIteration 60, inertia 991.5241196510907\nstart iteration\ndone sorting\nend inner loop\nIteration 61, inertia 991.33668664966\nstart iteration\ndone sorting\nend inner loop\nIteration 62, inertia 991.151549427801\nstart iteration\ndone sorting\nend inner loop\nIteration 63, inertia 991.01144285979\nstart iteration\ndone sorting\nend inner loop\n"
     ]
    },
    {
     "name": "stdout",
     "output_type": "stream",
     "text": [
      "Iteration 64, inertia 990.8426859906696\nstart iteration\ndone sorting\nend inner loop\nIteration 65, inertia 990.652334771432\nstart iteration\ndone sorting\nend inner loop\nIteration 66, inertia 990.4413491633057\nstart iteration\ndone sorting\nend inner loop\nIteration 67, inertia 990.1985399444667\nstart iteration\ndone sorting\nend inner loop\nIteration 68, inertia 989.9843408336351\nstart iteration\ndone sorting\nend inner loop\nIteration 69, inertia 989.8408611706611\nstart iteration\ndone sorting\nend inner loop\nIteration 70, inertia 989.7263873235826\nstart iteration\ndone sorting\nend inner loop\nIteration 71, inertia 989.6196643416276\nstart iteration\ndone sorting\nend inner loop\nIteration 72, inertia 989.4976083277096\nstart iteration\ndone sorting\nend inner loop\nIteration 73, inertia 989.374378644609\nstart iteration\ndone sorting\nend inner loop\n"
     ]
    },
    {
     "name": "stdout",
     "output_type": "stream",
     "text": [
      "Iteration 74, inertia 989.2691547637871\nstart iteration\ndone sorting\nend inner loop\nIteration 75, inertia 989.1854651172656\nstart iteration\ndone sorting\nend inner loop\nIteration 76, inertia 989.1332614568469\nstart iteration\ndone sorting\nend inner loop\nIteration 77, inertia 989.0791540676289\nstart iteration\ndone sorting\nend inner loop\nIteration 78, inertia 989.0388577245252\nstart iteration\ndone sorting\nend inner loop\nIteration 79, inertia 989.0161994546388\nstart iteration\ndone sorting\nend inner loop\nIteration 80, inertia 988.992328280601\nstart iteration\ndone sorting\nend inner loop\nIteration 81, inertia 988.9644450304663\nstart iteration\ndone sorting\nend inner loop\nIteration 82, inertia 988.9451045001117\nstart iteration\ndone sorting\nend inner loop\nIteration 83, inertia 988.9203560864382\nstart iteration\ndone sorting\nend inner loop\nIteration 84, inertia 988.8942139920175\nstart iteration\ndone sorting\n"
     ]
    },
    {
     "name": "stdout",
     "output_type": "stream",
     "text": [
      "end inner loop\nIteration 85, inertia 988.8771649161196\nstart iteration\ndone sorting\nend inner loop\nIteration 86, inertia 988.8654049427247\nstart iteration\ndone sorting\nend inner loop\nIteration 87, inertia 988.8617627438554\ncenter shift 3.010528e-03 within tolerance 5.809205e-05\n"
     ]
    },
    {
     "name": "stdout",
     "output_type": "stream",
     "text": [
      "Initialization complete\nstart iteration\ndone sorting\nend inner loop\nIteration 0, inertia 1140.0244956742974\nstart iteration\ndone sorting\nend inner loop\nIteration 1, inertia 1087.9688919550672\nstart iteration\ndone sorting\nend inner loop\nIteration 2, inertia 1070.594893080984\nstart iteration\ndone sorting\nend inner loop\nIteration 3, inertia 1058.1004111638774\nstart iteration\ndone sorting\nend inner loop\n"
     ]
    },
    {
     "name": "stdout",
     "output_type": "stream",
     "text": [
      "Iteration 4, inertia 1047.7706158365875\nstart iteration\ndone sorting\nend inner loop\nIteration 5, inertia 1040.9594916842027\nstart iteration\ndone sorting\nend inner loop\nIteration 6, inertia 1036.5032984730879\nstart iteration\ndone sorting\nend inner loop\nIteration 7, inertia 1032.8514433469015\nstart iteration\ndone sorting\nend inner loop\nIteration 8, inertia 1029.9448689885326\nstart iteration\ndone sorting\nend inner loop\nIteration 9, inertia 1027.3010439457366\nstart iteration\ndone sorting\nend inner loop\nIteration 10, inertia 1024.750718097135\nstart iteration\ndone sorting\nend inner loop\nIteration 11, inertia 1022.5112403464123\nstart iteration\ndone sorting\nend inner loop\nIteration 12, inertia 1020.5042625719506\nstart iteration\ndone sorting\nend inner loop\nIteration 13, inertia 1018.7562113215605\nstart iteration\ndone sorting\n"
     ]
    },
    {
     "name": "stdout",
     "output_type": "stream",
     "text": [
      "end inner loop\nIteration 14, inertia 1017.1688050078642\nstart iteration\ndone sorting\nend inner loop\nIteration 15, inertia 1015.4126006988699\nstart iteration\ndone sorting\nend inner loop\nIteration 16, inertia 1013.8289712175424\nstart iteration\ndone sorting\nend inner loop\nIteration 17, inertia 1012.3788342676961\nstart iteration\ndone sorting\nend inner loop\nIteration 18, inertia 1011.0802340842764\nstart iteration\ndone sorting\nend inner loop\nIteration 19, inertia 1010.1043468051141\nstart iteration\ndone sorting\nend inner loop\nIteration 20, inertia 1009.332741548066\nstart iteration\ndone sorting\nend inner loop\nIteration 21, inertia 1008.4822945275536\nstart iteration\ndone sorting\nend inner loop\nIteration 22, inertia 1007.5859289104844\nstart iteration\ndone sorting\nend inner loop\nIteration 23, inertia 1007.0235338521888\nstart iteration\ndone sorting\n"
     ]
    },
    {
     "name": "stdout",
     "output_type": "stream",
     "text": [
      "end inner loop\nIteration 24, inertia 1006.6153002769224\nstart iteration\ndone sorting\nend inner loop\nIteration 25, inertia 1006.3375047360814\nstart iteration\ndone sorting\nend inner loop\nIteration 26, inertia 1006.0817226614912\nstart iteration\ndone sorting\nend inner loop\nIteration 27, inertia 1005.8161247935938\nstart iteration\ndone sorting\nend inner loop\nIteration 28, inertia 1005.5962701652996\nstart iteration\ndone sorting\nend inner loop\nIteration 29, inertia 1005.292058494603\nstart iteration\ndone sorting\nend inner loop\nIteration 30, inertia 1005.0245550454762\nstart iteration\ndone sorting\nend inner loop\nIteration 31, inertia 1004.6220348500593\nstart iteration\ndone sorting\nend inner loop\nIteration 32, inertia 1004.2127688570373\nstart iteration\ndone sorting\nend inner loop\nIteration 33, inertia 1003.7700651337225\nstart iteration\ndone sorting\nend inner loop\n"
     ]
    },
    {
     "name": "stdout",
     "output_type": "stream",
     "text": [
      "Iteration 34, inertia 1003.242640072339\nstart iteration\ndone sorting\nend inner loop\nIteration 35, inertia 1002.7790578761807\nstart iteration\ndone sorting\nend inner loop\nIteration 36, inertia 1002.2514700042911\nstart iteration\ndone sorting\nend inner loop\nIteration 37, inertia 1001.4465364007556\nstart iteration\ndone sorting\nend inner loop\nIteration 38, inertia 1000.5843176300391\nstart iteration\ndone sorting\nend inner loop\nIteration 39, inertia 999.8495147614286\nstart iteration\ndone sorting\nend inner loop\nIteration 40, inertia 999.2060208408159\nstart iteration\ndone sorting\nend inner loop\nIteration 41, inertia 998.7877060570427\nstart iteration\ndone sorting\nend inner loop\nIteration 42, inertia 998.4131666584307\nstart iteration\ndone sorting\nend inner loop\nIteration 43, inertia 998.1155493043045\nstart iteration\ndone sorting\nend inner loop\n"
     ]
    },
    {
     "name": "stdout",
     "output_type": "stream",
     "text": [
      "Iteration 44, inertia 997.9364906385482\nstart iteration\ndone sorting\nend inner loop\nIteration 45, inertia 997.819455222838\nstart iteration\ndone sorting\nend inner loop\nIteration 46, inertia 997.7283466114523\nstart iteration\ndone sorting\nend inner loop\nIteration 47, inertia 997.6603870220383\nstart iteration\ndone sorting\nend inner loop\nIteration 48, inertia 997.6232612238734\nstart iteration\ndone sorting\nend inner loop\nIteration 49, inertia 997.5978264769367\nstart iteration\ndone sorting\nend inner loop\nIteration 50, inertia 997.5721890094628\nstart iteration\ndone sorting\nend inner loop\nIteration 51, inertia 997.5433263906308\nstart iteration\ndone sorting\nend inner loop\nIteration 52, inertia 997.5009158360771\nstart iteration\ndone sorting\nend inner loop\nIteration 53, inertia 997.451731311919\nstart iteration\ndone sorting\nend inner loop\nIteration 54, inertia 997.4046414473609\nstart iteration\ndone sorting\n"
     ]
    },
    {
     "name": "stdout",
     "output_type": "stream",
     "text": [
      "end inner loop\nIteration 55, inertia 997.3706755108391\nstart iteration\ndone sorting\nend inner loop\nIteration 56, inertia 997.3472006205872\nstart iteration\ndone sorting\nend inner loop\nIteration 57, inertia 997.3153722048385\nstart iteration\ndone sorting\nend inner loop\nIteration 58, inertia 997.2469781558415\nstart iteration\ndone sorting\nend inner loop\nIteration 59, inertia 997.1832110601698\nstart iteration\ndone sorting\nend inner loop\nIteration 60, inertia 997.1140209921533\nstart iteration\ndone sorting\nend inner loop\nIteration 61, inertia 997.0237285154969\nstart iteration\ndone sorting\nend inner loop\nIteration 62, inertia 996.9086973793247\nstart iteration\ndone sorting\nend inner loop\nIteration 63, inertia 996.8372643669135\nstart iteration\ndone sorting\nend inner loop\nIteration 64, inertia 996.7593091496178\nstart iteration\ndone sorting\nend inner loop\nIteration 65, inertia 996.6934765078698\nstart iteration\ndone sorting\nend inner loop\n"
     ]
    },
    {
     "name": "stdout",
     "output_type": "stream",
     "text": [
      "Iteration 66, inertia 996.639686734181\nstart iteration\ndone sorting\nend inner loop\nIteration 67, inertia 996.6072182088599\nstart iteration\ndone sorting\nend inner loop\nIteration 68, inertia 996.5729326369767\nstart iteration\ndone sorting\nend inner loop\nIteration 69, inertia 996.538569647394\nstart iteration\ndone sorting\nend inner loop\nIteration 70, inertia 996.4911052818243\nstart iteration\ndone sorting\nend inner loop\nIteration 71, inertia 996.391763868623\nstart iteration\ndone sorting\nend inner loop\nIteration 72, inertia 996.2840509832592\nstart iteration\ndone sorting\nend inner loop\nIteration 73, inertia 996.2121630702188\nstart iteration\ndone sorting\nend inner loop\nIteration 74, inertia 996.1807648167355\nstart iteration\ndone sorting\nend inner loop\nIteration 75, inertia 996.1338770429513\nstart iteration\ndone sorting\nend inner loop\nIteration 76, inertia 996.1094476035169\nstart iteration\ndone sorting\n"
     ]
    },
    {
     "name": "stdout",
     "output_type": "stream",
     "text": [
      "end inner loop\nIteration 77, inertia 996.0965095534293\nstart iteration\ndone sorting\nend inner loop\nIteration 78, inertia 996.0698580683508\nstart iteration\ndone sorting\nend inner loop\nIteration 79, inertia 996.0145839910807\nstart iteration\ndone sorting\nend inner loop\nIteration 80, inertia 995.9438274575883\nstart iteration\ndone sorting\nend inner loop\nIteration 81, inertia 995.8489006202892\nstart iteration\ndone sorting\nend inner loop\nIteration 82, inertia 995.7908323112814\nstart iteration\ndone sorting\nend inner loop\nIteration 83, inertia 995.7597956232557\nstart iteration\ndone sorting\nend inner loop\nIteration 84, inertia 995.7128694468132\nstart iteration\ndone sorting\nend inner loop\nIteration 85, inertia 995.6892247000815\nstart iteration\ndone sorting\nend inner loop\nIteration 86, inertia 995.6829870695072\ncenter shift 4.729874e-03 within tolerance 5.809205e-05\n"
     ]
    },
    {
     "name": "stdout",
     "output_type": "stream",
     "text": [
      "Initialization complete\nstart iteration\ndone sorting\nend inner loop\nIteration 0, inertia 1103.9411944224128\nstart iteration\ndone sorting\nend inner loop\nIteration 1, inertia 1054.3524310519006\nstart iteration\ndone sorting\nend inner loop\nIteration 2, inertia 1038.4426930542324\nstart iteration\ndone sorting\nend inner loop\nIteration 3, inertia 1029.61841527417\nstart iteration\ndone sorting\n"
     ]
    },
    {
     "name": "stdout",
     "output_type": "stream",
     "text": [
      "end inner loop\nIteration 4, inertia 1024.3087313649874\nstart iteration\ndone sorting\nend inner loop\nIteration 5, inertia 1021.5380280198576\nstart iteration\ndone sorting\nend inner loop\nIteration 6, inertia 1019.6518667787407\nstart iteration\ndone sorting\nend inner loop\nIteration 7, inertia 1018.1876164741096\nstart iteration\ndone sorting\nend inner loop\nIteration 8, inertia 1016.84060551576\nstart iteration\ndone sorting\nend inner loop\nIteration 9, inertia 1015.7979033928457\nstart iteration\ndone sorting\nend inner loop\nIteration 10, inertia 1014.9499337640499\nstart iteration\ndone sorting\nend inner loop\nIteration 11, inertia 1014.2361816581916\nstart iteration\ndone sorting\nend inner loop\nIteration 12, inertia 1013.659329818531\nstart iteration\ndone sorting\n"
     ]
    },
    {
     "name": "stdout",
     "output_type": "stream",
     "text": [
      "end inner loop\nIteration 13, inertia 1013.1648891303837\nstart iteration\ndone sorting\nend inner loop\nIteration 14, inertia 1012.7839450140067\nstart iteration\ndone sorting\nend inner loop\nIteration 15, inertia 1012.4821580253555\nstart iteration\ndone sorting\nend inner loop\nIteration 16, inertia 1012.2368986034843\nstart iteration\ndone sorting\nend inner loop\nIteration 17, inertia 1012.0328768403724\nstart iteration\ndone sorting\nend inner loop\nIteration 18, inertia 1011.8219760365375\nstart iteration\ndone sorting\nend inner loop\nIteration 19, inertia 1011.6008419010444\nstart iteration\ndone sorting\nend inner loop\nIteration 20, inertia 1011.3880789139288\nstart iteration\ndone sorting\nend inner loop\nIteration 21, inertia 1011.1866426220164\nstart iteration\ndone sorting\nend inner loop\nIteration 22, inertia 1011.0260256562084\nstart iteration\n"
     ]
    },
    {
     "name": "stdout",
     "output_type": "stream",
     "text": [
      "done sorting\nend inner loop\nIteration 23, inertia 1010.8910462520793\nstart iteration\ndone sorting\nend inner loop\nIteration 24, inertia 1010.7334318390162\nstart iteration\ndone sorting\nend inner loop\nIteration 25, inertia 1010.5062318422762\nstart iteration\ndone sorting\nend inner loop\nIteration 26, inertia 1010.3345173411326\nstart iteration\ndone sorting\nend inner loop\nIteration 27, inertia 1010.1816808066467\nstart iteration\ndone sorting\nend inner loop\nIteration 28, inertia 1010.0481922206568\nstart iteration\ndone sorting\nend inner loop\nIteration 29, inertia 1009.9443651245074\nstart iteration\ndone sorting\nend inner loop\nIteration 30, inertia 1009.8466314172932\nstart iteration\ndone sorting\nend inner loop\nIteration 31, inertia 1009.7042323050155\nstart iteration\ndone sorting\nend inner loop\n"
     ]
    },
    {
     "name": "stdout",
     "output_type": "stream",
     "text": [
      "Iteration 32, inertia 1009.5549723689871\nstart iteration\ndone sorting\nend inner loop\nIteration 33, inertia 1009.404837998845\nstart iteration\ndone sorting\nend inner loop\nIteration 34, inertia 1009.2882774829918\nstart iteration\ndone sorting\nend inner loop\nIteration 35, inertia 1009.2079991119202\nstart iteration\ndone sorting\nend inner loop\nIteration 36, inertia 1009.1260305441132\nstart iteration\ndone sorting\nend inner loop\nIteration 37, inertia 1009.0122254380452\nstart iteration\ndone sorting\nend inner loop\nIteration 38, inertia 1008.8917756468148\nstart iteration\ndone sorting\nend inner loop\nIteration 39, inertia 1008.7532349874685\nstart iteration\ndone sorting\nend inner loop\nIteration 40, inertia 1008.6155934334378\nstart iteration\ndone sorting\nend inner loop\nIteration 41, inertia 1008.491128941839\nstart iteration\ndone sorting\nend inner loop\n"
     ]
    },
    {
     "name": "stdout",
     "output_type": "stream",
     "text": [
      "Iteration 42, inertia 1008.4108808568349\nstart iteration\ndone sorting\nend inner loop\nIteration 43, inertia 1008.3517454916741\nstart iteration\ndone sorting\nend inner loop\nIteration 44, inertia 1008.3130017551925\nstart iteration\ndone sorting\nend inner loop\nIteration 45, inertia 1008.2639691973757\nstart iteration\ndone sorting\nend inner loop\nIteration 46, inertia 1008.1917356581808\nstart iteration\ndone sorting\nend inner loop\nIteration 47, inertia 1008.0625778724236\nstart iteration\ndone sorting\nend inner loop\nIteration 48, inertia 1007.9866736212044\nstart iteration\ndone sorting\nend inner loop\nIteration 49, inertia 1007.9362704940914\nstart iteration\ndone sorting\nend inner loop\nIteration 50, inertia 1007.886709413082\nstart iteration\ndone sorting\nend inner loop\nIteration 51, inertia 1007.817598293467\nstart iteration\ndone sorting\nend inner loop\n"
     ]
    },
    {
     "name": "stdout",
     "output_type": "stream",
     "text": [
      "Iteration 52, inertia 1007.7417445593416\nstart iteration\ndone sorting\nend inner loop\nIteration 53, inertia 1007.664944357075\nstart iteration\ndone sorting\nend inner loop\nIteration 54, inertia 1007.5666405424595\nstart iteration\ndone sorting\nend inner loop\nIteration 55, inertia 1007.4601104327089\nstart iteration\ndone sorting\nend inner loop\nIteration 56, inertia 1007.222286196214\nstart iteration\ndone sorting\nend inner loop\nIteration 57, inertia 1006.8718413040707\nstart iteration\ndone sorting\nend inner loop\nIteration 58, inertia 1006.523990011152\nstart iteration\ndone sorting\nend inner loop\nIteration 59, inertia 1006.2347752007905\nstart iteration\ndone sorting\nend inner loop\nIteration 60, inertia 1005.9606416013385\nstart iteration\ndone sorting\nend inner loop\nIteration 61, inertia 1005.7577591650648\nstart iteration\ndone sorting\nend inner loop\nIteration 62, inertia 1005.6265983541247\nstart iteration\ndone sorting\nend inner loop"
     ]
    },
    {
     "name": "stdout",
     "output_type": "stream",
     "text": [
      "\nIteration 63, inertia 1005.5079559510172\nstart iteration\ndone sorting\nend inner loop\nIteration 64, inertia 1005.4165421885494\nstart iteration\ndone sorting\nend inner loop\nIteration 65, inertia 1005.3407682455004\nstart iteration\ndone sorting\nend inner loop\nIteration 66, inertia 1005.2122199027813\nstart iteration\ndone sorting\nend inner loop\nIteration 67, inertia 1005.1413718288564\nstart iteration\ndone sorting\nend inner loop\nIteration 68, inertia 1005.0969865071797\nstart iteration\ndone sorting\nend inner loop\nIteration 69, inertia 1005.0176258387727\nstart iteration\ndone sorting\nend inner loop\nIteration 70, inertia 1004.9357309549333\nstart iteration\ndone sorting\nend inner loop\nIteration 71, inertia 1004.8356990293707\nstart iteration\ndone sorting\nend inner loop\nIteration 72, inertia 1004.7003079167949\nstart iteration\ndone sorting\nend inner loop\nIteration 73, inertia 1004.495610013812\nstart iteration\ndone sorting\n"
     ]
    },
    {
     "name": "stdout",
     "output_type": "stream",
     "text": [
      "end inner loop\nIteration 74, inertia 1004.2248510849656\nstart iteration\ndone sorting\nend inner loop\nIteration 75, inertia 1003.9091376126811\nstart iteration\ndone sorting\nend inner loop\nIteration 76, inertia 1003.5203932560277\nstart iteration\ndone sorting\nend inner loop\nIteration 77, inertia 1003.1668457522609\nstart iteration\ndone sorting\nend inner loop\nIteration 78, inertia 1002.9047496748137\nstart iteration\ndone sorting\nend inner loop\nIteration 79, inertia 1002.6806254711097\nstart iteration\ndone sorting\nend inner loop\nIteration 80, inertia 1002.4584055632347\nstart iteration\ndone sorting\nend inner loop\nIteration 81, inertia 1002.2927583593907\nstart iteration\ndone sorting\nend inner loop\nIteration 82, inertia 1002.152145212286\nstart iteration\ndone sorting\nend inner loop\nIteration 83, inertia 1002.0562786268371\nstart iteration\ndone sorting\nend inner loop\nIteration 84, inertia 1001.9619738554751\nstart iteration\ndone sorting\n"
     ]
    },
    {
     "name": "stdout",
     "output_type": "stream",
     "text": [
      "end inner loop\nIteration 85, inertia 1001.8867179662018\nstart iteration\ndone sorting\nend inner loop\nIteration 86, inertia 1001.8176112860359\nstart iteration\ndone sorting\nend inner loop\nIteration 87, inertia 1001.7526590279689\nstart iteration\ndone sorting\nend inner loop\nIteration 88, inertia 1001.7089000263379\nstart iteration\ndone sorting\nend inner loop\nIteration 89, inertia 1001.6619484697686\nstart iteration\ndone sorting\nend inner loop\nIteration 90, inertia 1001.6303916173645\nstart iteration\ndone sorting\nend inner loop\nIteration 91, inertia 1001.6114809924392\nstart iteration\ndone sorting\nend inner loop\nIteration 92, inertia 1001.5962448680662\nstart iteration\ndone sorting\nend inner loop\nIteration 93, inertia 1001.5760780522203\nstart iteration\ndone sorting\nend inner loop\nIteration 94, inertia 1001.5611241272695\nstart iteration\ndone sorting\n"
     ]
    },
    {
     "name": "stdout",
     "output_type": "stream",
     "text": [
      "end inner loop\nIteration 95, inertia 1001.5450460911969\nstart iteration\ndone sorting\nend inner loop\nIteration 96, inertia 1001.5347859883402\nstart iteration\ndone sorting\nend inner loop\nIteration 97, inertia 1001.5220229996631\ncenter shift 7.594410e-03 within tolerance 5.809205e-05\n"
     ]
    },
    {
     "name": "stdout",
     "output_type": "stream",
     "text": [
      "Initialization complete\nstart iteration\ndone sorting\nend inner loop\nIteration 0, inertia 1122.805972114267\nstart iteration\ndone sorting\nend inner loop\nIteration 1, inertia 1069.9760712535856\nstart iteration\ndone sorting\nend inner loop\nIteration 2, inertia 1050.580034039394\nstart iteration\ndone sorting\nend inner loop\nIteration 3, inertia 1039.1410303942732\nstart iteration\ndone sorting\nend inner loop\n"
     ]
    },
    {
     "name": "stdout",
     "output_type": "stream",
     "text": [
      "Iteration 4, inertia 1031.7503665264667\nstart iteration\ndone sorting\nend inner loop\nIteration 5, inertia 1027.1295000461469\nstart iteration\ndone sorting\nend inner loop\nIteration 6, inertia 1024.0610290984014\nstart iteration\ndone sorting\nend inner loop\nIteration 7, inertia 1021.8631586523891\nstart iteration\ndone sorting\nend inner loop\nIteration 8, inertia 1020.0546699142338\nstart iteration\ndone sorting\nend inner loop\nIteration 9, inertia 1018.5739795955858\nstart iteration\ndone sorting\nend inner loop\nIteration 10, inertia 1017.2361549381388\nstart iteration\ndone sorting\nend inner loop\nIteration 11, inertia 1015.9988140426308\nstart iteration\ndone sorting\nend inner loop\nIteration 12, inertia 1014.894458782443\nstart iteration\ndone sorting\nend inner loop\n"
     ]
    },
    {
     "name": "stdout",
     "output_type": "stream",
     "text": [
      "Iteration 13, inertia 1013.9914478676473\nstart iteration\ndone sorting\nend inner loop\nIteration 14, inertia 1013.0456261950811\nstart iteration\ndone sorting\nend inner loop\nIteration 15, inertia 1011.9847276273874\nstart iteration\ndone sorting\nend inner loop\nIteration 16, inertia 1010.9331002447813\nstart iteration\ndone sorting\nend inner loop\nIteration 17, inertia 1009.9971265553713\nstart iteration\ndone sorting\nend inner loop\nIteration 18, inertia 1009.1451197595842\nstart iteration\ndone sorting\nend inner loop\nIteration 19, inertia 1008.41796351272\nstart iteration\ndone sorting\nend inner loop\nIteration 20, inertia 1007.7055067131051\nstart iteration\ndone sorting\nend inner loop\nIteration 21, inertia 1007.2491047989548\nstart iteration\ndone sorting\nend inner loop\n"
     ]
    },
    {
     "name": "stdout",
     "output_type": "stream",
     "text": [
      "Iteration 22, inertia 1006.9062557256227\nstart iteration\ndone sorting\nend inner loop\nIteration 23, inertia 1006.5515819315489\nstart iteration\ndone sorting\nend inner loop\nIteration 24, inertia 1006.19904898921\nstart iteration\ndone sorting\nend inner loop\nIteration 25, inertia 1005.8606976997927\nstart iteration\ndone sorting\nend inner loop\nIteration 26, inertia 1005.61045266466\nstart iteration\ndone sorting\nend inner loop\nIteration 27, inertia 1005.3590550340647\nstart iteration\ndone sorting\nend inner loop\nIteration 28, inertia 1005.1430732134087\nstart iteration\ndone sorting\nend inner loop\nIteration 29, inertia 1004.9845651078438\nstart iteration\ndone sorting\nend inner loop\nIteration 30, inertia 1004.8461832707086\nstart iteration\ndone sorting\nend inner loop\nIteration 31, inertia 1004.6435120002866\nstart iteration\ndone sorting\nend inner loop\n"
     ]
    },
    {
     "name": "stdout",
     "output_type": "stream",
     "text": [
      "Iteration 32, inertia 1004.4714024142049\nstart iteration\ndone sorting\nend inner loop\nIteration 33, inertia 1004.311723388562\nstart iteration\ndone sorting\nend inner loop\nIteration 34, inertia 1004.166525497806\nstart iteration\ndone sorting\nend inner loop\nIteration 35, inertia 1004.0100401298432\nstart iteration\ndone sorting\nend inner loop\nIteration 36, inertia 1003.8981898229077\nstart iteration\ndone sorting\nend inner loop\nIteration 37, inertia 1003.7840775856387\nstart iteration\ndone sorting\nend inner loop\nIteration 38, inertia 1003.6877472514868\nstart iteration\ndone sorting\nend inner loop\nIteration 39, inertia 1003.6163492967175\nstart iteration\ndone sorting\nend inner loop\nIteration 40, inertia 1003.5697603672442\nstart iteration\ndone sorting\nend inner loop\nIteration 41, inertia 1003.52794998873\nstart iteration\ndone sorting\nend inner loop\n"
     ]
    },
    {
     "name": "stdout",
     "output_type": "stream",
     "text": [
      "Iteration 42, inertia 1003.4474812204622\nstart iteration\ndone sorting\nend inner loop\nIteration 43, inertia 1003.3390653646788\nstart iteration\ndone sorting\nend inner loop\nIteration 44, inertia 1003.1728330915685\nstart iteration\ndone sorting\nend inner loop\nIteration 45, inertia 1002.9214803925743\nstart iteration\ndone sorting\nend inner loop\nIteration 46, inertia 1002.6420473791684\nstart iteration\ndone sorting\nend inner loop\nIteration 47, inertia 1002.4569380904966\nstart iteration\ndone sorting\nend inner loop\nIteration 48, inertia 1002.2743989202351\nstart iteration\ndone sorting\nend inner loop\nIteration 49, inertia 1002.1018188325836\nstart iteration\ndone sorting\nend inner loop\nIteration 50, inertia 1001.9217778461001\nstart iteration\ndone sorting\nend inner loop\nIteration 51, inertia 1001.6744859958523\nstart iteration\ndone sorting\nend inner loop\n"
     ]
    },
    {
     "name": "stdout",
     "output_type": "stream",
     "text": [
      "Iteration 52, inertia 1001.324009010632\nstart iteration\ndone sorting\nend inner loop\nIteration 53, inertia 1000.8945733768671\nstart iteration\ndone sorting\nend inner loop\nIteration 54, inertia 1000.3197377470381\nstart iteration\ndone sorting\nend inner loop\nIteration 55, inertia 999.7220519366474\nstart iteration\ndone sorting\nend inner loop\nIteration 56, inertia 999.2573057796881\nstart iteration\ndone sorting\nend inner loop\nIteration 57, inertia 998.9355205691676\nstart iteration\ndone sorting\nend inner loop\nIteration 58, inertia 998.6031030030219\nstart iteration\ndone sorting\nend inner loop\nIteration 59, inertia 998.3091221730841\nstart iteration\ndone sorting\nend inner loop\nIteration 60, inertia 997.9834230658573\nstart iteration\ndone sorting\nend inner loop\nIteration 61, inertia 997.6903983078923\nstart iteration\ndone sorting\nend inner loop\n"
     ]
    },
    {
     "name": "stdout",
     "output_type": "stream",
     "text": [
      "Iteration 62, inertia 997.3492809762926\nstart iteration\ndone sorting\nend inner loop\nIteration 63, inertia 996.875340026176\nstart iteration\ndone sorting\nend inner loop\nIteration 64, inertia 996.3187036630816\nstart iteration\ndone sorting\nend inner loop\nIteration 65, inertia 995.7241107140158\nstart iteration\ndone sorting\nend inner loop\nIteration 66, inertia 994.9449105277117\nstart iteration\ndone sorting\nend inner loop\nIteration 67, inertia 994.1503527838692\nstart iteration\ndone sorting\nend inner loop\nIteration 68, inertia 993.3899481212728\nstart iteration\ndone sorting\nend inner loop\nIteration 69, inertia 992.6264890894821\nstart iteration\ndone sorting\nend inner loop\nIteration 70, inertia 992.1430577505776\nstart iteration\ndone sorting\nend inner loop\nIteration 71, inertia 991.587507918743\nstart iteration\ndone sorting\nend inner loop\n"
     ]
    },
    {
     "name": "stdout",
     "output_type": "stream",
     "text": [
      "Iteration 72, inertia 991.1168794460995\nstart iteration\ndone sorting\nend inner loop\nIteration 73, inertia 990.7975227529732\nstart iteration\ndone sorting\nend inner loop\nIteration 74, inertia 990.6276634332465\nstart iteration\ndone sorting\nend inner loop\nIteration 75, inertia 990.5274529560893\nstart iteration\ndone sorting\nend inner loop\nIteration 76, inertia 990.459764789149\nstart iteration\ndone sorting\nend inner loop\nIteration 77, inertia 990.4041809974107\nstart iteration\ndone sorting\nend inner loop\nIteration 78, inertia 990.3459212153966\nstart iteration\ndone sorting\nend inner loop\nIteration 79, inertia 990.2937769240259\nstart iteration\ndone sorting\nend inner loop\nIteration 80, inertia 990.2629370060396\nstart iteration\ndone sorting\nend inner loop\nIteration 81, inertia 990.2458329687538\nstart iteration\ndone sorting\nend inner loop\n"
     ]
    },
    {
     "name": "stdout",
     "output_type": "stream",
     "text": [
      "Iteration 82, inertia 990.2368302354698\nstart iteration\ndone sorting\nend inner loop\nIteration 83, inertia 990.228199102746\nstart iteration\ndone sorting\nend inner loop\nIteration 84, inertia 990.217480653402\nstart iteration\ndone sorting\nend inner loop\nIteration 85, inertia 990.2101102178856\nstart iteration\ndone sorting\nend inner loop\nIteration 86, inertia 990.2010103262121\nstart iteration\ndone sorting\nend inner loop\nIteration 87, inertia 990.1884813406494\ncenter shift 5.870179e-03 within tolerance 5.809205e-05\n[[ 4.10096195e-02  1.08059477e-01 -2.28998199e+00]\n [ 2.25279049e-01 -3.27341936e-02  3.70879857e-01]\n [-1.32897006e-01  1.71090645e-01  1.94367044e+00]\n [ 2.10610319e-02  5.12768752e-03 -6.88097203e-01]\n [ 3.69711648e-02 -1.23954597e-01  2.45075999e+00]\n [-6.95431967e-02  2.33591649e-02  8.17740250e-01]\n [ 1.24224263e-01  7.80359848e-02 -1.26928745e+00]\n [-2.08078452e-04 -1.04075993e-03 -2.44187034e-01]\n [ 6.38829277e-02  4.62660219e-01 -2.81175080e+00]\n [-2.59493064e-03  1.17443261e-03  2.27193397e-01]\n [ 4.55643317e-01 -1.95096976e-03  8.18700347e-03]\n [ 3.01587516e-01  2.61356651e-01 -1.50482187e+00]\n [ 1.22832904e-04 -1.13826522e-02  3.02879163e+00]\n [ 2.41063129e-01  6.43880475e-02 -6.42510646e-01]\n [ 3.86971144e-01 -1.96237867e-01  1.12381599e+00]\n [-1.34882737e-02 -1.44839810e-05 -3.23886579e-03]\n [-4.69699506e-01  2.52033783e-01  1.05714784e+00]\n [-3.56496357e-01 -8.96626592e-02 -6.58843629e-01]\n [-1.46312862e-02  3.37044759e-03  4.46064282e-01]\n [-1.25501479e-01 -1.64172564e-01 -1.96997480e+00]\n [-6.18097070e-01 -9.70861325e-01 -2.03150896e+00]\n [ 7.39698936e-02 -1.09958645e-01  1.83537229e+00]\n [ 3.18531281e-02 -2.24159333e-02  1.21243749e+00]\n [ 1.17848785e-01  5.06543529e-02 -9.28494311e-01]\n [-1.14618650e+00  7.98639153e-03  1.59093193e-02]\n [ 3.99623909e-04  1.37888124e-02 -3.00082666e+00]\n [ 1.56098040e-02  7.24420153e-02 -2.63151219e+00]\n [ 2.45618368e-01 -5.00347890e-01  2.04739838e+00]\n [-6.95492607e-02  6.28998134e-02  1.52937439e+00]\n [ 2.02302979e-01 -1.44997367e-05 -1.37642200e-03]\n [ 3.53634625e-02  5.18030650e-03 -4.55104050e-01]\n [-6.40227201e-01  9.44120658e-01  1.97306243e+00]\n [ 3.87802068e-01 -1.06249169e-01  6.14598190e-01]\n [ 8.49153411e-01  7.71584559e-01 -1.49853135e+00]\n [-3.65442316e-01  2.39808256e-03  1.41415825e-02]\n [ 7.33613244e-02  1.11877328e-01 -1.87316947e+00]\n [-5.13091989e-01 -3.60230196e-01 -1.21638174e+00]\n [ 4.03238091e-01  1.83440618e-01 -1.01675618e+00]\n [ 7.39261002e-03 -5.02016816e-02  2.72055927e+00]\n [-9.05842261e-02 -4.01451376e-02 -1.13291371e+00]\n [ 8.68225422e-01  6.59404882e-04  7.07965762e-03]\n [-4.91826596e-02 -4.54478425e-02 -1.54501335e+00]\n [ 2.50048525e-01  5.18695411e-01 -2.05773567e+00]\n [ 6.13308218e-02 -4.77951974e-01  2.83664102e+00]\n [ 2.50535105e-01 -2.20097452e-01  1.49342488e+00]\n [ 8.18236930e-01 -7.57787368e-01  1.51356371e+00]\n [ 3.67841077e-01  6.14117965e-02 -3.59456640e-01]\n [ 1.63616823e-01 -6.85643075e-02  9.16597420e-01]\n [ 4.03615208e-02 -8.37685105e-02  2.15791497e+00]\n [ 1.04094907e-01 -2.55575591e-02  6.35073868e-01]]\n"
     ]
    },
    {
     "ename": "EOFError",
     "evalue": "Ran out of input",
     "traceback": [
      "\u001b[0;31m---------------------------------------------------------------------------\u001b[0m",
      "\u001b[0;31mEOFError\u001b[0m                                  Traceback (most recent call last)",
      "\u001b[0;32m<ipython-input-4-6bbc00c5b528>\u001b[0m in \u001b[0;36m<module>\u001b[0;34m\u001b[0m\n\u001b[1;32m     34\u001b[0m \u001b[0;34m\u001b[0m\u001b[0m\n\u001b[1;32m     35\u001b[0m \u001b[0;31m# load and check\u001b[0m\u001b[0;34m\u001b[0m\u001b[0;34m\u001b[0m\u001b[0;34m\u001b[0m\u001b[0m\n\u001b[0;32m---> 36\u001b[0;31m \u001b[0mkmeans\u001b[0m \u001b[0;34m=\u001b[0m \u001b[0mpickle\u001b[0m\u001b[0;34m.\u001b[0m\u001b[0mload\u001b[0m\u001b[0;34m(\u001b[0m\u001b[0mopen\u001b[0m\u001b[0;34m(\u001b[0m\u001b[0mkmeans_file\u001b[0m\u001b[0;34m,\u001b[0m \u001b[0;34m'rb'\u001b[0m\u001b[0;34m)\u001b[0m\u001b[0;34m)\u001b[0m\u001b[0;34m\u001b[0m\u001b[0;34m\u001b[0m\u001b[0m\n\u001b[0m\u001b[1;32m     37\u001b[0m \u001b[0mprint\u001b[0m\u001b[0;34m(\u001b[0m\u001b[0mkmeans\u001b[0m\u001b[0;34m.\u001b[0m\u001b[0mcluster_centers_\u001b[0m\u001b[0;34m)\u001b[0m\u001b[0;34m\u001b[0m\u001b[0;34m\u001b[0m\u001b[0m\n",
      "\u001b[0;31mEOFError\u001b[0m: Ran out of input"
     ],
     "output_type": "error"
    }
   ],
   "source": [
    "image_path = 'data/flipped_new/train/'\n",
    "\n",
    "# relevant variables\n",
    "num_clusters = 50\n",
    "print('num_clusters: ', num_clusters)\n",
    "kmeans_file = 'data/kmeans_dictionary_axis_angle_' + str(num_clusters) + '.pkl'\n",
    "\n",
    "# setup data loader to access the images\n",
    "train_data = ImagesAll(image_path, 'real')\n",
    "image_names = np.concatenate(train_data.list_image_names)\n",
    "\n",
    "# get pose targets from training data\n",
    "bar = progressbar.ProgressBar()\n",
    "ydata = []\n",
    "for i in bar(range(len(image_names))):\n",
    "\timage_name = image_names[i]\n",
    "\t_, _, az, el, ct, _ = parse_name(image_name)\n",
    "\tR = rotation_matrix(az, el, -ct)\n",
    "\ty = get_y(R)\n",
    "\tydata.append(y)\n",
    "ydata = np.stack(ydata)\n",
    "print('\\nData size: ', ydata.shape)\n",
    "\n",
    "# run kmeans\n",
    "kmeans = KMeans(num_clusters, verbose=1, n_jobs=10)\n",
    "kmeans.fit(ydata)\n",
    "print(kmeans.cluster_centers_)\n",
    "\n",
    "# save output\n",
    "fid = open(kmeans_file, 'wb')\n",
    "pickle.dump(kmeans, fid)\n",
    "\n",
    "del kmeans\n",
    "\n",
    "# load and check\n",
    "kmeans = pickle.load(open(kmeans_file, 'rb'))\n",
    "print(kmeans.cluster_centers_)\n"
   ]
  },
  {
   "cell_type": "code",
   "execution_count": null,
   "metadata": {},
   "outputs": [],
   "source": []
  }
 ],
 "metadata": {
  "kernelspec": {
   "display_name": "Python 3",
   "language": "python",
   "name": "python3"
  },
  "language_info": {
   "codemirror_mode": {
    "name": "ipython",
    "version": 3
   },
   "file_extension": ".py",
   "mimetype": "text/x-python",
   "name": "python",
   "nbconvert_exporter": "python",
   "pygments_lexer": "ipython3",
   "version": "3.6.8"
  }
 },
 "nbformat": 4,
 "nbformat_minor": 2
}
